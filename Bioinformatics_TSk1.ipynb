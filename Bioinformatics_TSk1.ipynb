{
  "nbformat": 4,
  "nbformat_minor": 0,
  "metadata": {
    "colab": {
      "provenance": [],
      "authorship_tag": "ABX9TyP7XmM5PtXro6K9foy94a+Q",
      "include_colab_link": true
    },
    "kernelspec": {
      "name": "python3",
      "display_name": "Python 3"
    },
    "language_info": {
      "name": "python"
    }
  },
  "cells": [
    {
      "cell_type": "markdown",
      "metadata": {
        "id": "view-in-github",
        "colab_type": "text"
      },
      "source": [
        "<a href=\"https://colab.research.google.com/github/VarshuGangasagre/VarshuGangasagre/blob/main/Bioinformatics_TSk1.ipynb\" target=\"_parent\"><img src=\"https://colab.research.google.com/assets/colab-badge.svg\" alt=\"Open In Colab\"/></a>"
      ]
    },
    {
      "cell_type": "code",
      "execution_count": null,
      "metadata": {
        "colab": {
          "base_uri": "https://localhost:8080/"
        },
        "id": "zU0LkcrbTKeB",
        "outputId": "6dd3e063-c0a2-4c41-d128-40e88598650a"
      },
      "outputs": [
        {
          "output_type": "stream",
          "name": "stdout",
          "text": [
            "Number of sequences: 1\n"
          ]
        }
      ],
      "source": [
        "#Open Fasta File\n",
        "def count_sequences(fasta_file):\n",
        "    sequence_count = 0\n",
        "\n",
        "    with open(fasta_file, 'r') as file:\n",
        "        for line in file:\n",
        "            line = line.strip()\n",
        "            if line.startswith('>'):\n",
        "                sequence_count += 1\n",
        "\n",
        "    return sequence_count\n",
        "\n",
        "# Provide the path to your FASTA file\n",
        "fasta_file_path = '/sequenceprotein.fasta'\n",
        "\n",
        "# Call the function to count sequences\n",
        "num_sequences = count_sequences(fasta_file_path)\n",
        "\n",
        "# Print the number of sequences\n",
        "print(\"Number of sequences:\", num_sequences)\n"
      ]
    },
    {
      "cell_type": "code",
      "source": [
        "# Function to calculate GC content\n",
        "def calculate_gc_content(sequence):\n",
        "    gc_count = 0\n",
        "    total_count = 0\n",
        "\n",
        "    # Iterate over each nucleotide in the sequence\n",
        "    for nucleotide in sequence:\n",
        "        if nucleotide == 'G' or nucleotide == 'C':\n",
        "            gc_count += 1\n",
        "        total_count += 1\n",
        "\n",
        "    # Calculate GC content percentage\n",
        "    gc_content = (gc_count / total_count) * 100\n",
        "    return gc_content\n",
        "\n",
        "# Main code\n",
        "dna_sequence = \"ATCGATCGATCGATCGATTCGCGATTCTGCATGCATATGCGCGCGCGCGC\"\n",
        "gc_content = calculate_gc_content(dna_sequence)\n",
        "print(\"GC content:\", gc_content)\n"
      ],
      "metadata": {
        "colab": {
          "base_uri": "https://localhost:8080/"
        },
        "id": "jkGJC5bKbjey",
        "outputId": "062d94e7-8cfe-4ae4-fea9-c05950a4a856"
      },
      "execution_count": null,
      "outputs": [
        {
          "output_type": "stream",
          "name": "stdout",
          "text": [
            "GC content: 57.99999999999999\n"
          ]
        }
      ]
    },
    {
      "cell_type": "code",
      "source": [
        "#To translate a DNA sequence into its corresponding protein sequence\n",
        "!pip install biopython\n",
        "\n",
        "from Bio.Seq import Seq\n",
        "\n",
        "def translate_dna_to_protein(dna_sequence):\n",
        "    # Create a Seq object from the DNA sequence\n",
        "    dna_seq = Seq(dna_sequence)\n",
        "\n",
        "    # Translate the DNA sequence to protein\n",
        "    protein_seq = dna_seq.translate()\n",
        "\n",
        "    return protein_seq\n",
        "\n",
        "# DNA sequence to be translated\n",
        "dna_sequence = \"ATGGTCTCGATTGAGGACGAGGACGAGGACGAGGACGAGGACTAG\"\n",
        "\n",
        "# Translate DNA to protein\n",
        "protein_sequence = translate_dna_to_protein(dna_sequence)\n",
        "\n",
        "# Print the protein sequence\n",
        "print(\"Protein sequence:\", protein_sequence)\n"
      ],
      "metadata": {
        "colab": {
          "base_uri": "https://localhost:8080/"
        },
        "id": "-a4gp0tweJYq",
        "outputId": "7a7a81e4-cdbe-4291-eabd-a15b9056e458"
      },
      "execution_count": null,
      "outputs": [
        {
          "output_type": "stream",
          "name": "stdout",
          "text": [
            "Looking in indexes: https://pypi.org/simple, https://us-python.pkg.dev/colab-wheels/public/simple/\n",
            "Requirement already satisfied: biopython in /usr/local/lib/python3.10/dist-packages (1.81)\n",
            "Requirement already satisfied: numpy in /usr/local/lib/python3.10/dist-packages (from biopython) (1.22.4)\n",
            "Protein sequence: MVSIEDEDEDEDED*\n"
          ]
        }
      ]
    },
    {
      "cell_type": "code",
      "source": [
        "#To extract the coding sequence (CDS) from a GenBank file using Biopython\n",
        "from Bio import SeqIO\n",
        "\n",
        "def extract_coding_sequences(genbank_file):\n",
        "    coding_sequences = []\n",
        "\n",
        "    for record in SeqIO.parse(genbank_file, \"genbank\"):\n",
        "        for feature in record.features:\n",
        "            if feature.type == \"CDS\":\n",
        "                cds_sequence = feature.extract(record.seq)\n",
        "                coding_sequences.append(cds_sequence)\n",
        "\n",
        "    return coding_sequences\n",
        "\n",
        "# GenBank file path\n",
        "genbank_file_path = '/path/to/your/genbank/file.gb'\n",
        "\n",
        "# Extract coding sequences\n",
        "coding_sequences = extract_coding_sequences(genbank_file_path)\n",
        "\n",
        "# Print the extracted coding sequences\n",
        "for i, cds_sequence in enumerate(coding_sequences):\n",
        "    print(f\"Coding Sequence {i+1}: {cds_sequence}\")\n"
      ],
      "metadata": {
        "id": "9WrGijG0ibUf"
      },
      "execution_count": null,
      "outputs": []
    },
    {
      "cell_type": "code",
      "source": [
        "#To search for a specific motif or pattern in a DNA sequence using regular expressions\n",
        "import re\n",
        "\n",
        "def search_motif_in_dna(dna_sequence, motif):\n",
        "    matches = re.findall(motif, dna_sequence)\n",
        "    return matches\n",
        "\n",
        "# DNA sequence\n",
        "dna_sequence = \"ATGCGATAGCTAGCTACGATGCGAT\"\n",
        "\n",
        "# Motif to search for\n",
        "motif = \"ATG\"\n",
        "\n",
        "# Search for the motif in the DNA sequence\n",
        "matches = search_motif_in_dna(dna_sequence, motif)\n",
        "\n",
        "# Print the matches\n",
        "print(\"Matches found:\", matches)\n"
      ],
      "metadata": {
        "colab": {
          "base_uri": "https://localhost:8080/"
        },
        "id": "AeDS83GTknf2",
        "outputId": "97501fbc-44a9-4ac5-c16c-e0020ea0e494"
      },
      "execution_count": null,
      "outputs": [
        {
          "output_type": "stream",
          "name": "stdout",
          "text": [
            "Matches found: ['ATG', 'ATG']\n"
          ]
        }
      ]
    },
    {
      "cell_type": "code",
      "source": [
        "#MSA using CLUSTAL\n",
        "!apt-get install -y clustalw\n",
        "\n",
        "from Bio import AlignIO\n",
        "\n",
        "alignment_file_path = '/clustalw.aln'\n",
        "alignment = AlignIO.read(alignment_file_path, 'clustal')\n",
        "print(alignment)\n"
      ],
      "metadata": {
        "colab": {
          "base_uri": "https://localhost:8080/"
        },
        "id": "N3kN3d3epB8e",
        "outputId": "b532fb0d-0153-46d0-d10d-5a01675e2cf8"
      },
      "execution_count": null,
      "outputs": [
        {
          "output_type": "stream",
          "name": "stdout",
          "text": [
            "Reading package lists... Done\n",
            "Building dependency tree       \n",
            "Reading state information... Done\n",
            "clustalw is already the newest version (2.1+lgpl-6build1).\n",
            "0 upgraded, 0 newly installed, 0 to remove and 24 not upgraded.\n",
            "Alignment with 3 rows and 48432 columns\n",
            "CATTGGATTGATCAAATCTTGTTCTTCGTAATAGCGAATCTGTC...AAA sequence1\n",
            "--------------------------------------------...--- sequence2\n",
            "--------------------------------------------...--- sequence3\n"
          ]
        }
      ]
    },
    {
      "cell_type": "code",
      "source": [
        "from Bio.SeqUtils.ProtParam import ProteinAnalysis\n",
        "\n",
        "def calculate_molecular_weight(protein_sequence):\n",
        "    protein_analyzer = ProteinAnalysis(protein_sequence)\n",
        "    molecular_weight = protein_analyzer.molecular_weight()\n",
        "    return molecular_weight\n",
        "\n",
        "# Protein sequence\n",
        "protein_sequence = \"MKWVTFISLLFLFSSAYSRGVFRRDAHKSEVAHRFKDLGEENFKALVLIAFAQYLQQCPGACTHSGCPUHCGTF\"\n",
        "\n",
        "# Calculate molecular weight\n",
        "molecular_weight = calculate_molecular_weight(protein_sequence)\n",
        "\n",
        "# Print the molecular weight\n",
        "print(\"Molecular weight:\", molecular_weight)\n"
      ],
      "metadata": {
        "colab": {
          "base_uri": "https://localhost:8080/"
        },
        "id": "n-VuM5DkpMMh",
        "outputId": "f4f12c43-d490-4c21-a366-44033169a18c"
      },
      "execution_count": null,
      "outputs": [
        {
          "output_type": "stream",
          "name": "stdout",
          "text": [
            "Molecular weight: 8421.513799999997\n"
          ]
        }
      ]
    },
    {
      "cell_type": "code",
      "source": [
        "#To generate a random DNA sequence of a given length\n",
        "import random\n",
        "\n",
        "def generate_random_dna_sequence(length):\n",
        "    bases = ['A', 'C', 'G', 'T']\n",
        "    random_sequence = ''.join(random.choices(bases, k=length))\n",
        "    return random_sequence\n",
        "\n",
        "# Specify the desired length of the random DNA sequence\n",
        "sequence_length = 150\n",
        "\n",
        "# Generate a random DNA sequence\n",
        "random_sequence = generate_random_dna_sequence(sequence_length)\n",
        "\n",
        "# Print the random DNA sequence\n",
        "print(\"Random DNA sequence:\", random_sequence)\n"
      ],
      "metadata": {
        "colab": {
          "base_uri": "https://localhost:8080/"
        },
        "id": "yPPa-EP0wfPl",
        "outputId": "98f4f515-147f-4a70-f3e1-2099aa9d7cf2"
      },
      "execution_count": null,
      "outputs": [
        {
          "output_type": "stream",
          "name": "stdout",
          "text": [
            "Random DNA sequence: TTTGTACTAACTGCGTACAGTACAGTACTGCTCTCGGCGGGTCGTACGTCGTTGGGTTGTCCATCAGCTCAAGGAGAATCAACCTTTAGTTGGCTGGCTTTAGAAGCTTGCCCTAAGAGAACAAGCTATAATAGTGATGGAGAAATTGTG\n"
          ]
        }
      ]
    },
    {
      "cell_type": "code",
      "source": [
        "#To retrieve protein information from UniProt using an accession number\n",
        "import requests\n",
        "\n",
        "def retrieve_protein_info(accession_number):\n",
        "    url = f\"https://www.uniprot.org/uniprot/{accession_number}.txt\"\n",
        "    response = requests.get(url)\n",
        "\n",
        "    # Check if the request was successful\n",
        "    if response.status_code == 200:\n",
        "        protein_info = response.text\n",
        "        return protein_info\n",
        "    else:\n",
        "        print(f\"Failed to retrieve protein information for accession number: {accession_number}\")\n",
        "        return None\n",
        "\n",
        "# Accession number of the protein\n",
        "accession_number = \"P12348\"\n",
        "\n",
        "# Retrieve protein information\n",
        "protein_info = retrieve_protein_info(accession_number)\n",
        "\n",
        "# Print the protein information\n",
        "print(\"Protein information:\")\n",
        "print(protein_info)\n"
      ],
      "metadata": {
        "colab": {
          "base_uri": "https://localhost:8080/"
        },
        "id": "622Ad3lJ1SG2",
        "outputId": "1b07963a-4a99-447e-c70e-9052e9d961c3"
      },
      "execution_count": null,
      "outputs": [
        {
          "output_type": "stream",
          "name": "stdout",
          "text": [
            "Protein information:\n",
            "ID   PER_DROPS               Reviewed;        1271 AA.\n",
            "AC   P12348; Q29I05;\n",
            "DT   01-OCT-1989, integrated into UniProtKB/Swiss-Prot.\n",
            "DT   16-DEC-2008, sequence version 3.\n",
            "DT   03-MAY-2023, entry version 134.\n",
            "DE   RecName: Full=Period circadian protein;\n",
            "GN   Name=per; ORFNames=GA15408;\n",
            "OS   Drosophila pseudoobscura pseudoobscura (Fruit fly).\n",
            "OC   Eukaryota; Metazoa; Ecdysozoa; Arthropoda; Hexapoda; Insecta; Pterygota;\n",
            "OC   Neoptera; Endopterygota; Diptera; Brachycera; Muscomorpha; Ephydroidea;\n",
            "OC   Drosophilidae; Drosophila; Sophophora.\n",
            "OX   NCBI_TaxID=46245;\n",
            "RN   [1]\n",
            "RP   NUCLEOTIDE SEQUENCE [GENOMIC DNA].\n",
            "RC   STRAIN=Ayala;\n",
            "RX   PubMed=3208754; DOI=10.1002/j.1460-2075.1988.tb03279.x;\n",
            "RA   Colot H.V., Hall J.C., Rosbash M.;\n",
            "RT   \"Interspecific comparison of the period gene of Drosophila reveals large\n",
            "RT   blocks of non-conserved coding DNA.\";\n",
            "RL   EMBO J. 7:3929-3937(1988).\n",
            "RN   [2]\n",
            "RP   NUCLEOTIDE SEQUENCE [LARGE SCALE GENOMIC DNA].\n",
            "RC   STRAIN=MV2-25 / Tucson 14011-0121.94;\n",
            "RX   PubMed=15632085; DOI=10.1101/gr.3059305;\n",
            "RA   Richards S., Liu Y., Bettencourt B.R., Hradecky P., Letovsky S.,\n",
            "RA   Nielsen R., Thornton K., Hubisz M.J., Chen R., Meisel R.P., Couronne O.,\n",
            "RA   Hua S., Smith M.A., Zhang P., Liu J., Bussemaker H.J., van Batenburg M.F.,\n",
            "RA   Howells S.L., Scherer S.E., Sodergren E., Matthews B.B., Crosby M.A.,\n",
            "RA   Schroeder A.J., Ortiz-Barrientos D., Rives C.M., Metzker M.L., Muzny D.M.,\n",
            "RA   Scott G., Steffen D., Wheeler D.A., Worley K.C., Havlak P., Durbin K.J.,\n",
            "RA   Egan A., Gill R., Hume J., Morgan M.B., Miner G., Hamilton C., Huang Y.,\n",
            "RA   Waldron L., Verduzco D., Clerc-Blankenburg K.P., Dubchak I., Noor M.A.F.,\n",
            "RA   Anderson W., White K.P., Clark A.G., Schaeffer S.W., Gelbart W.M.,\n",
            "RA   Weinstock G.M., Gibbs R.A.;\n",
            "RT   \"Comparative genome sequencing of Drosophila pseudoobscura: chromosomal,\n",
            "RT   gene, and cis-element evolution.\";\n",
            "RL   Genome Res. 15:1-18(2005).\n",
            "CC   -!- FUNCTION: Essential for biological clock functions. Determines the\n",
            "CC       period length of circadian and ultradian rhythms; an increase in PER\n",
            "CC       dosage leads to shortened circadian rhythms and a decrease leads to\n",
            "CC       lengthened circadian rhythms. Essential for the circadian rhythmicity\n",
            "CC       of locomotor activity, eclosion behavior, and for the rhythmic\n",
            "CC       component of the male courtship song that originates in the thoracic\n",
            "CC       nervous system. The biological cycle depends on the rhythmic formation\n",
            "CC       and nuclear localization of the TIM-PER complex. Light induces the\n",
            "CC       degradation of TIM, which promotes elimination of PER. Nuclear activity\n",
            "CC       of the heterodimer coordinatively regulates PER and TIM transcription\n",
            "CC       through a negative feedback loop. Behaves as a negative element in\n",
            "CC       circadian transcriptional loop. Does not appear to bind DNA, suggesting\n",
            "CC       indirect transcriptional inhibition (By similarity). {ECO:0000250}.\n",
            "CC   -!- SUBUNIT: Forms a heterodimer with timeless (TIM); the complex then\n",
            "CC       translocates into the nucleus. {ECO:0000250}.\n",
            "CC   -!- SUBCELLULAR LOCATION: Nucleus {ECO:0000250}. Cytoplasm, perinuclear\n",
            "CC       region {ECO:0000250}. Note=Nuclear at specific periods of the day.\n",
            "CC       First accumulates in the perinuclear region about one hour before\n",
            "CC       translocation into the nucleus. Interaction with Tim is required for\n",
            "CC       nuclear localization (By similarity). {ECO:0000250}.\n",
            "CC   -!- DOMAIN: The run of Gly-Thr is implicated in the maintenance of\n",
            "CC       circadian period at different temperatures. Deletion of the repeat\n",
            "CC       leads to a shortening of the courtship song cycle period, and thus\n",
            "CC       could be important for determining features of species-specific mating\n",
            "CC       behavior (By similarity). {ECO:0000250}.\n",
            "CC   -!- PTM: Phosphorylated with a circadian rhythmicity, probably by the\n",
            "CC       double-time protein (dbt). Phosphorylation could be implicated in the\n",
            "CC       stability of per monomer and in the formation of heterodimer per-tim\n",
            "CC       (By similarity). {ECO:0000250}.\n",
            "CC   ---------------------------------------------------------------------------\n",
            "CC   Copyrighted by the UniProt Consortium, see https://www.uniprot.org/terms\n",
            "CC   Distributed under the Creative Commons Attribution (CC BY 4.0) License\n",
            "CC   ---------------------------------------------------------------------------\n",
            "DR   EMBL; X13878; CAA32082.1; -; Genomic_DNA.\n",
            "DR   EMBL; CH379064; EAL31601.2; -; Genomic_DNA.\n",
            "DR   PIR; S01827; S01827.\n",
            "DR   AlphaFoldDB; P12348; -.\n",
            "DR   SMR; P12348; -.\n",
            "DR   STRING; 7237.FBpp0284700; -.\n",
            "DR   eggNOG; KOG3753; Eukaryota.\n",
            "DR   HOGENOM; CLU_002704_0_0_1; -.\n",
            "DR   InParanoid; P12348; -.\n",
            "DR   OMA; SYPSCTQ; -.\n",
            "DR   Proteomes; UP000001819; Genome assembly.\n",
            "DR   GO; GO:0005634; C:nucleus; IEA:UniProtKB-SubCell.\n",
            "DR   GO; GO:0048471; C:perinuclear region of cytoplasm; IEA:UniProtKB-SubCell.\n",
            "DR   GO; GO:0006357; P:regulation of transcription by RNA polymerase II; IEA:UniProt.\n",
            "DR   GO; GO:0048511; P:rhythmic process; IEA:UniProtKB-KW.\n",
            "DR   CDD; cd00130; PAS; 2.\n",
            "DR   Gene3D; 3.30.450.20; PAS domain; 2.\n",
            "DR   Gene3D; 1.20.5.770; Single helix bin; 1.\n",
            "DR   InterPro; IPR000014; PAS.\n",
            "DR   InterPro; IPR035965; PAS-like_dom_sf.\n",
            "DR   InterPro; IPR013767; PAS_fold.\n",
            "DR   PANTHER; PTHR11269; PERIOD CIRCADIAN PROTEIN; 1.\n",
            "DR   PANTHER; PTHR11269:SF16; PERIOD CIRCADIAN PROTEIN; 1.\n",
            "DR   Pfam; PF00989; PAS; 2.\n",
            "DR   SMART; SM00091; PAS; 2.\n",
            "DR   SUPFAM; SSF55785; PYP-like sensor domain (PAS domain); 2.\n",
            "DR   PROSITE; PS50112; PAS; 2.\n",
            "PE   3: Inferred from homology;\n",
            "KW   Biological rhythms; Cytoplasm; Nucleus; Phosphoprotein; Reference proteome;\n",
            "KW   Repeat.\n",
            "FT   CHAIN           1..1271\n",
            "FT                   /note=\"Period circadian protein\"\n",
            "FT                   /id=\"PRO_0000162602\"\n",
            "FT   DOMAIN          189..259\n",
            "FT                   /note=\"PAS 1\"\n",
            "FT                   /evidence=\"ECO:0000255|PROSITE-ProRule:PRU00140\"\n",
            "FT   DOMAIN          339..409\n",
            "FT                   /note=\"PAS 2\"\n",
            "FT                   /evidence=\"ECO:0000255|PROSITE-ProRule:PRU00140\"\n",
            "FT   REPEAT          657..658\n",
            "FT                   /note=\"1\"\n",
            "FT   REPEAT          659..660\n",
            "FT                   /note=\"2\"\n",
            "FT   REPEAT          661..662\n",
            "FT                   /note=\"3\"\n",
            "FT   REPEAT          663..664\n",
            "FT                   /note=\"4; approximate\"\n",
            "FT   REPEAT          665..666\n",
            "FT                   /note=\"5\"\n",
            "FT   REPEAT          667..668\n",
            "FT                   /note=\"6\"\n",
            "FT   REPEAT          674..675\n",
            "FT                   /note=\"7\"\n",
            "FT   REPEAT          676..677\n",
            "FT                   /note=\"8\"\n",
            "FT   REGION          1..102\n",
            "FT                   /note=\"Disordered\"\n",
            "FT                   /evidence=\"ECO:0000256|SAM:MobiDB-lite\"\n",
            "FT   REGION          596..660\n",
            "FT                   /note=\"Disordered\"\n",
            "FT                   /evidence=\"ECO:0000256|SAM:MobiDB-lite\"\n",
            "FT   REGION          657..677\n",
            "FT                   /note=\"8 X 2 AA approximate tandem repeats of G-T\"\n",
            "FT   REGION          746..913\n",
            "FT                   /note=\"Disordered\"\n",
            "FT                   /evidence=\"ECO:0000256|SAM:MobiDB-lite\"\n",
            "FT   REGION          928..956\n",
            "FT                   /note=\"Disordered\"\n",
            "FT                   /evidence=\"ECO:0000256|SAM:MobiDB-lite\"\n",
            "FT   REGION          1014..1050\n",
            "FT                   /note=\"Disordered\"\n",
            "FT                   /evidence=\"ECO:0000256|SAM:MobiDB-lite\"\n",
            "FT   REGION          1143..1191\n",
            "FT                   /note=\"Disordered\"\n",
            "FT                   /evidence=\"ECO:0000256|SAM:MobiDB-lite\"\n",
            "FT   REGION          1227..1271\n",
            "FT                   /note=\"Disordered\"\n",
            "FT                   /evidence=\"ECO:0000256|SAM:MobiDB-lite\"\n",
            "FT   MOTIF           65..78\n",
            "FT                   /note=\"Nuclear localization signal\"\n",
            "FT                   /evidence=\"ECO:0000255\"\n",
            "FT   COMPBIAS        1..62\n",
            "FT                   /note=\"Polar residues\"\n",
            "FT                   /evidence=\"ECO:0000256|SAM:MobiDB-lite\"\n",
            "FT   COMPBIAS        80..102\n",
            "FT                   /note=\"Polar residues\"\n",
            "FT                   /evidence=\"ECO:0000256|SAM:MobiDB-lite\"\n",
            "FT   COMPBIAS        606..660\n",
            "FT                   /note=\"Polar residues\"\n",
            "FT                   /evidence=\"ECO:0000256|SAM:MobiDB-lite\"\n",
            "FT   COMPBIAS        746..808\n",
            "FT                   /note=\"Polar residues\"\n",
            "FT                   /evidence=\"ECO:0000256|SAM:MobiDB-lite\"\n",
            "FT   COMPBIAS        828..885\n",
            "FT                   /note=\"Polar residues\"\n",
            "FT                   /evidence=\"ECO:0000256|SAM:MobiDB-lite\"\n",
            "FT   COMPBIAS        886..913\n",
            "FT                   /note=\"Basic and acidic residues\"\n",
            "FT                   /evidence=\"ECO:0000256|SAM:MobiDB-lite\"\n",
            "FT   COMPBIAS        1233..1271\n",
            "FT                   /note=\"Basic and acidic residues\"\n",
            "FT                   /evidence=\"ECO:0000256|SAM:MobiDB-lite\"\n",
            "FT   CONFLICT        147\n",
            "FT                   /note=\"P -> S (in Ref. 1; CAA32082)\"\n",
            "FT                   /evidence=\"ECO:0000305\"\n",
            "FT   CONFLICT        188\n",
            "FT                   /note=\"D -> E (in Ref. 1; CAA32082)\"\n",
            "FT                   /evidence=\"ECO:0000305\"\n",
            "FT   CONFLICT        537..538\n",
            "FT                   /note=\"EL -> DV (in Ref. 1; CAA32082)\"\n",
            "FT                   /evidence=\"ECO:0000305\"\n",
            "FT   CONFLICT        726..730\n",
            "FT                   /note=\"Missing (in Ref. 1; CAA32082)\"\n",
            "FT                   /evidence=\"ECO:0000305\"\n",
            "FT   CONFLICT        763\n",
            "FT                   /note=\"G -> D (in Ref. 1; CAA32082)\"\n",
            "FT                   /evidence=\"ECO:0000305\"\n",
            "FT   CONFLICT        777..781\n",
            "FT                   /note=\"Missing (in Ref. 1; CAA32082)\"\n",
            "FT                   /evidence=\"ECO:0000305\"\n",
            "FT   CONFLICT        873..875\n",
            "FT                   /note=\"PDS -> ADA (in Ref. 1; CAA32082)\"\n",
            "FT                   /evidence=\"ECO:0000305\"\n",
            "FT   CONFLICT        1061\n",
            "FT                   /note=\"T -> A (in Ref. 1; CAA32082)\"\n",
            "FT                   /evidence=\"ECO:0000305\"\n",
            "FT   CONFLICT        1104\n",
            "FT                   /note=\"S -> N (in Ref. 1; CAA32082)\"\n",
            "FT                   /evidence=\"ECO:0000305\"\n",
            "FT   CONFLICT        1117..1136\n",
            "FT                   /note=\"Missing (in Ref. 1; CAA32082)\"\n",
            "FT                   /evidence=\"ECO:0000305\"\n",
            "FT   CONFLICT        1165\n",
            "FT                   /note=\"A -> T (in Ref. 1; CAA32082)\"\n",
            "FT                   /evidence=\"ECO:0000305\"\n",
            "FT   CONFLICT        1179\n",
            "FT                   /note=\"S -> P (in Ref. 1; CAA32082)\"\n",
            "FT                   /evidence=\"ECO:0000305\"\n",
            "SQ   SEQUENCE   1271 AA;  135420 MW;  4B2B0D88A9FE7495 CRC64;\n",
            "     MEGESTESTQ NTKVSDSAYS NSCSNSQSQR SGSSKSMLSG SHSSGSSGYG GKPSIQTSSS\n",
            "     DMAIKRNKEK SRKKKKAKCT QAQATISSSL EGAEEQPHSS GTTCDQKILH VLATTQQLGD\n",
            "     QPSSLDHKLG EQLEARHNCG VGKAEQPQSF SLPCPLSVST LMPGIGVCHG GNAPGGKWEK\n",
            "     TFESCKLDTG PAKTERVKED SFCCVISMHD GIVLYTTPSI TDVLGFPRDM WLGRSFIDFV\n",
            "     HTKDRATFAS QITTGIPIAE SRCSMPKDAR STFCVMLRQY RGLQTSGYGV IGRSVNYEPF\n",
            "     RLGMSFREAP EEERSDNYMV ANSSNMLLVI CATPIKSSYR VPEEIHSQRS PKFAIRHTAA\n",
            "     GIISHVDSAA VSALGYLPQD LMGRSIMDLY HHDDLPVIKE IYESVMKKGQ TAGASFCSKP\n",
            "     YRFLIQNGCY ILLETEWSSF VNPWSRKLEF VVGHHRVFQG PKICNVFETP PNSEPKIAEE\n",
            "     LQNKNTRIKE EIVNLLAEKV SRPSDTVKQE VSRRCQALAS FMETLMDEVS RADLKLELPH\n",
            "     ENELTVSERD SVMLGEISPH HDYYDSKSSI ETPPSYNQLN YNENLLRFFN SKPVTAPVEV\n",
            "     DPPKVGSSDV SSTREDARST LSPLNGFEGS GASGSSGHLT SGSNIHMSSA TNTSNAGTGT\n",
            "     GTVTGTGTII ATSGTGTVTC ASGNMDANTS AAFNIAANTS AADNFGADTS AADTSGADTS\n",
            "     AADNYAVDNY GPGNFGAENS CADNSGAENS CADNSGVDNS RPGNSGADNS AADNFGADNS\n",
            "     GPDNSGADNS GPDNTGPDNS GAENSRAENS RADNSRPDHP RPDISGASNS RPDKTGPDKS\n",
            "     GAENSASGSG SGTSGNEGPS SGGQDTRTTA GTPDSPPVSL TESLLNKHND EMEKFMLKKH\n",
            "     RESRGDRRTV EKNKNKTTNT IDSLKILEYS STGPGHGTKR GGSYSWEGEG NKPKQQPTLN\n",
            "     SVGVGTGAPE APIPPVHPTH TTHTAIAQSS FSAQQSLFPT FYYIPATPLA ASTPAPGALS\n",
            "     PTPRNQKHHH HAHQHAPKVP DQASTSQQAA GPAAIPLQYV TGVMYPHPSL FYTHPAAAAA\n",
            "     TAMMYQPMPF PGIANAMQLP EQPSTSQSNY SKTVFSVIVA PPTITTTTAT TTPKTQGAFH\n",
            "     SITPAQLQRP SSQDTSVKTE PASNATPSHS SNKKKANSSI ASGIGDYNSN QACSRNRANV\n",
            "     KKYTDSNGNS DDMDGSSFSS FYSSFIKTTD GSESPPDNDK EAKHRKLKNI TRLSSKIMEH\n",
            "     PEEDQTQHGD G\n",
            "//\n",
            "\n"
          ]
        }
      ]
    },
    {
      "cell_type": "code",
      "source": [
        "#To perform a BLAST search against a local or online database\n",
        "from Bio.Blast import NCBIWWW, NCBIXML\n",
        "\n",
        "def perform_blast_search(sequence, database=\"nr\", program=\"blastn\"):\n",
        "    result_handle = NCBIWWW.qblast(program, database, sequence)\n",
        "    blast_records = NCBIXML.parse(result_handle)\n",
        "    return blast_records\n",
        "\n",
        "# DNA or protein sequence\n",
        "sequence = \"ATGCGATAGCTAGCTACGATGCGAT\"\n",
        "\n",
        "# Perform BLAST search\n",
        "blast_records = perform_blast_search(sequence)\n",
        "\n",
        "# Process the blast records\n",
        "for blast_record in blast_records:\n",
        "    for alignment in blast_record.alignments:\n",
        "        for hsp in alignment.hsps:\n",
        "            # Access the relevant information\n",
        "            print(\"Alignment:\")\n",
        "            print(\"Sequence:\", alignment.title)\n",
        "            print(\"E-value:\", hsp.expect)\n",
        "            print(\"Alignment length:\", hsp.align_length)\n",
        "            print(\"Alignment:\", hsp.query)\n",
        "            print(\"        \", hsp.match)\n",
        "            print(\"        \", hsp.sbjct)\n",
        "            print()\n"
      ],
      "metadata": {
        "colab": {
          "base_uri": "https://localhost:8080/"
        },
        "id": "hbVQuSwY1-1Z",
        "outputId": "bc6899c9-b5a6-4bad-96b9-bb050639f1b6"
      },
      "execution_count": null,
      "outputs": [
        {
          "output_type": "stream",
          "name": "stdout",
          "text": [
            "Alignment:\n",
            "Sequence: gi|2191754237|emb|OV815308.1| Gymnoscelis rufifasciata genome assembly, chromosome: 7\n",
            "E-value: 5.64851\n",
            "Alignment length: 24\n",
            "Alignment: ATGCGATAGCTAGCTACGATGCGA\n",
            "         ||||| ||||||||||||||||||\n",
            "         ATGCGGTAGCTAGCTACGATGCGA\n",
            "\n"
          ]
        }
      ]
    },
    {
      "cell_type": "code",
      "source": [
        "#To calculate the isoelectric point (pI) of a protein sequence\n",
        "from Bio.SeqUtils.IsoelectricPoint import IsoelectricPoint\n",
        "\n",
        "def calculate_pI(protein_sequence):\n",
        "    pI_calculator = IsoelectricPoint(protein_sequence)\n",
        "    pI = pI_calculator.pi()\n",
        "    return pI\n",
        "\n",
        "# Protein sequence\n",
        "protein_sequence = \"MKWVTFISLLFLFSSAYSRGVFRRDAHKSEVAHRFKDLGEENFKALVLIAFAQYLQQCPFGHYTSDFGHYTHGYTDGSHSGSHJAAJAHSGS\"\n",
        "\n",
        "# Calculate isoelectric point\n",
        "pI = calculate_pI(protein_sequence)\n",
        "\n",
        "# Print the isoelectric point\n",
        "print(\"Isoelectric point (pI):\", pI)\n"
      ],
      "metadata": {
        "colab": {
          "base_uri": "https://localhost:8080/"
        },
        "id": "w-KaQOA364LF",
        "outputId": "d3b2551a-9717-4e49-ca5d-7f0795b77c30"
      },
      "execution_count": null,
      "outputs": [
        {
          "output_type": "stream",
          "name": "stdout",
          "text": [
            "Isoelectric point (pI): 7.983522987365723\n"
          ]
        }
      ]
    },
    {
      "cell_type": "code",
      "source": [
        "#To perform Principal Component Analysis (PCA) on gene expression data\n",
        "import numpy as np\n",
        "from sklearn.decomposition import PCA\n",
        "\n",
        "# Gene expression data (example)\n",
        "gene_expression_data = np.array([[1.2, 3.5, 2.1, 4.0],\n",
        "                                [0.8, 2.9, 1.5, 3.2],\n",
        "                                [2.1, 4.3, 3.2, 5.1],\n",
        "                                [1.5, 3.2, 2.9, 4.3]])\n",
        "\n",
        "# Create a PCA object with desired number of components\n",
        "pca = PCA(n_components=2)\n",
        "\n",
        "# Perform PCA on the gene expression data\n",
        "pca_result = pca.fit_transform(gene_expression_data)\n",
        "\n",
        "# Print the explained variance ratio\n",
        "print(\"Explained variance ratio:\")\n",
        "print(pca.explained_variance_ratio_)\n",
        "\n",
        "# Print the transformed data (PCA scores)\n",
        "print(\"Transformed data (PCA scores):\")\n",
        "print(pca_result)\n"
      ],
      "metadata": {
        "colab": {
          "base_uri": "https://localhost:8080/"
        },
        "id": "xOWTb7Za-Pin",
        "outputId": "29289012-9306-4813-9545-2842b63fb157"
      },
      "execution_count": null,
      "outputs": [
        {
          "output_type": "stream",
          "name": "stdout",
          "text": [
            "Explained variance ratio:\n",
            "[0.93620736 0.06207559]\n",
            "Transformed data (PCA scores):\n",
            "[[-0.34288542 -0.21309016]\n",
            " [-1.5619741  -0.07996645]\n",
            " [ 1.62123017 -0.21014527]\n",
            " [ 0.28362935  0.50320188]]\n"
          ]
        }
      ]
    },
    {
      "cell_type": "code",
      "source": [
        "#To calculate the reverse complement of a DNA sequence\n",
        "from Bio.Seq import Seq\n",
        "\n",
        "def calculate_reverse_complement(dna_sequence):\n",
        "    # Create a Seq object from the DNA sequence\n",
        "    seq = Seq(dna_sequence)\n",
        "\n",
        "    # Calculate the reverse complement\n",
        "    reverse_complement = seq.reverse_complement()\n",
        "\n",
        "    return str(reverse_complement)\n",
        "\n",
        "# Example DNA sequence\n",
        "dna_sequence = \"ATCGGCGTAA\"\n",
        "\n",
        "# Calculate the reverse complement\n",
        "reverse_complement = calculate_reverse_complement(dna_sequence)\n",
        "\n",
        "print(\"Original sequence:\", dna_sequence)\n",
        "print(\"Reverse complement:\", reverse_complement)\n"
      ],
      "metadata": {
        "colab": {
          "base_uri": "https://localhost:8080/"
        },
        "id": "0320sVgREl7w",
        "outputId": "870128bd-2a1e-44c1-d8ca-10df9d355f0f"
      },
      "execution_count": null,
      "outputs": [
        {
          "output_type": "stream",
          "name": "stdout",
          "text": [
            "Original sequence: ATCGGCGTAA\n",
            "Reverse complement: TTACGCCGAT\n"
          ]
        }
      ]
    },
    {
      "cell_type": "code",
      "source": [
        "#To calculate the distance matrix using DNA sequences\n",
        "# Install Biopython library\n",
        "!pip install biopython\n",
        "\n",
        "# Import necessary libraries\n",
        "from Bio import pairwise2\n",
        "from Bio import SeqIO\n",
        "import numpy as np\n",
        "\n",
        "# Define a list of DNA sequences\n",
        "sequences = [\n",
        "    \"ATGCTAGCTAGCTA\",\n",
        "    \"ATGCATCGATCGAT\",\n",
        "    \"ATGCTAGCTAGCTA\",\n",
        "    \"ATGCGCGCGCGCGC\"\n",
        "]\n",
        "\n",
        "# Calculate distance matrix\n",
        "num_sequences = len(sequences)\n",
        "distance_matrix = np.zeros((num_sequences, num_sequences))\n",
        "\n",
        "for i in range(num_sequences):\n",
        "    for j in range(i+1, num_sequences):\n",
        "        alignment = pairwise2.align.globalxx(sequences[i], sequences[j], one_alignment_only=True)\n",
        "        distance = 1 - (alignment[0].score / max(len(sequences[i]), len(sequences[j])))\n",
        "        distance_matrix[i, j] = distance\n",
        "        distance_matrix[j, i] = distance\n",
        "\n",
        "# Print distance matrix\n",
        "print(distance_matrix)\n"
      ],
      "metadata": {
        "id": "8jSLSoeuEzB6",
        "colab": {
          "base_uri": "https://localhost:8080/"
        },
        "outputId": "8004395b-cc46-4e49-fb20-ddc77f74d6ed"
      },
      "execution_count": null,
      "outputs": [
        {
          "output_type": "stream",
          "name": "stdout",
          "text": [
            "Looking in indexes: https://pypi.org/simple, https://us-python.pkg.dev/colab-wheels/public/simple/\n",
            "Requirement already satisfied: biopython in /usr/local/lib/python3.10/dist-packages (1.81)\n",
            "Requirement already satisfied: numpy in /usr/local/lib/python3.10/dist-packages (from biopython) (1.22.4)\n",
            "[[0.         0.35714286 0.         0.42857143]\n",
            " [0.35714286 0.         0.35714286 0.42857143]\n",
            " [0.         0.35714286 0.         0.42857143]\n",
            " [0.42857143 0.42857143 0.42857143 0.        ]]\n"
          ]
        },
        {
          "output_type": "stream",
          "name": "stderr",
          "text": [
            "/usr/local/lib/python3.10/dist-packages/Bio/pairwise2.py:278: BiopythonDeprecationWarning: Bio.pairwise2 has been deprecated, and we intend to remove it in a future release of Biopython. As an alternative, please consider using Bio.Align.PairwiseAligner as a replacement, and contact the Biopython developers if you still need the Bio.pairwise2 module.\n",
            "  warnings.warn(\n"
          ]
        }
      ]
    },
    {
      "cell_type": "code",
      "source": [
        "# Install bioservices library\n",
        "!pip install bioservices\n",
        "\n",
        "# Import necessary libraries\n",
        "from bioservices.kegg import KEGG\n",
        "\n",
        "# Create a KEGG object\n",
        "kegg = KEGG()\n",
        "\n",
        "# Perform pathway enrichment analysis\n",
        "def perform_pathway_enrichment(gene_list, organism):\n",
        "    # Convert gene list to KEGG gene IDs\n",
        "    kegg_genes = kegg.conv(\"genes\", \"uniprot:\" + \" \".join(gene_list))\n",
        "\n",
        "    # Get KEGG pathway annotations\n",
        "    pathways = kegg.get_pathway_by_genes(kegg_genes, organism)\n",
        "\n",
        "    # Print enriched pathways\n",
        "    for pathway in pathways:\n",
        "        print(\"Pathway ID:\", pathway)\n",
        "        print(\"Pathway Name:\", pathways[pathway])\n",
        "\n",
        "# Define the gene list and organism\n",
        "gene_list = [\"gene1\", \"gene2\", \"gene3\"]  # Replace with your gene list\n",
        "organism = \"hsa\"  # Replace with the KEGG organism code for your organism of interest (e.g., \"hsa\" for human)\n",
        "\n",
        "# Perform pathway enrichment analysis\n",
        "perform_pathway_enrichment(gene_list, organism)\n"
      ],
      "metadata": {
        "colab": {
          "base_uri": "https://localhost:8080/",
          "height": 1000
        },
        "id": "wrPyqU49WprY",
        "outputId": "7de97a91-a1d6-4a69-fe03-79c68ef421ba"
      },
      "execution_count": null,
      "outputs": [
        {
          "output_type": "stream",
          "name": "stdout",
          "text": [
            "Looking in indexes: https://pypi.org/simple, https://us-python.pkg.dev/colab-wheels/public/simple/\n",
            "Collecting bioservices\n",
            "  Downloading bioservices-1.11.2.tar.gz (191 kB)\n",
            "\u001b[2K     \u001b[90m━━━━━━━━━━━━━━━━━━━━━━━━━━━━━━━━━━━━━━━\u001b[0m \u001b[32m191.9/191.9 kB\u001b[0m \u001b[31m6.7 MB/s\u001b[0m eta \u001b[36m0:00:00\u001b[0m\n",
            "\u001b[?25h  Preparing metadata (setup.py) ... \u001b[?25l\u001b[?25hdone\n",
            "Requirement already satisfied: appdirs in /usr/local/lib/python3.10/dist-packages (from bioservices) (1.4.4)\n",
            "Requirement already satisfied: beautifulsoup4 in /usr/local/lib/python3.10/dist-packages (from bioservices) (4.11.2)\n",
            "Collecting colorlog (from bioservices)\n",
            "  Downloading colorlog-6.7.0-py2.py3-none-any.whl (11 kB)\n",
            "Collecting easydev>=0.12.0 (from bioservices)\n",
            "  Downloading easydev-0.12.1.tar.gz (55 kB)\n",
            "\u001b[2K     \u001b[90m━━━━━━━━━━━━━━━━━━━━━━━━━━━━━━━━━━━━━━━━\u001b[0m \u001b[32m55.7/55.7 kB\u001b[0m \u001b[31m4.1 MB/s\u001b[0m eta \u001b[36m0:00:00\u001b[0m\n",
            "\u001b[?25h  Preparing metadata (setup.py) ... \u001b[?25l\u001b[?25hdone\n",
            "Collecting grequests (from bioservices)\n",
            "  Downloading grequests-0.6.0-py3-none-any.whl (5.2 kB)\n",
            "Requirement already satisfied: matplotlib in /usr/local/lib/python3.10/dist-packages (from bioservices) (3.7.1)\n",
            "Requirement already satisfied: pandas>=0.21.1 in /usr/local/lib/python3.10/dist-packages (from bioservices) (1.5.3)\n",
            "Requirement already satisfied: requests in /usr/local/lib/python3.10/dist-packages (from bioservices) (2.27.1)\n",
            "Collecting requests_cache (from bioservices)\n",
            "  Downloading requests_cache-1.0.1-py3-none-any.whl (58 kB)\n",
            "\u001b[2K     \u001b[90m━━━━━━━━━━━━━━━━━━━━━━━━━━━━━━━━━━━━━━━━\u001b[0m \u001b[32m58.7/58.7 kB\u001b[0m \u001b[31m4.4 MB/s\u001b[0m eta \u001b[36m0:00:00\u001b[0m\n",
            "\u001b[?25hCollecting suds-community>=0.7 (from bioservices)\n",
            "  Downloading suds_community-1.1.2-py3-none-any.whl (144 kB)\n",
            "\u001b[2K     \u001b[90m━━━━━━━━━━━━━━━━━━━━━━━━━━━━━━━━━━━━━━\u001b[0m \u001b[32m144.9/144.9 kB\u001b[0m \u001b[31m14.4 MB/s\u001b[0m eta \u001b[36m0:00:00\u001b[0m\n",
            "\u001b[?25hRequirement already satisfied: lxml in /usr/local/lib/python3.10/dist-packages (from bioservices) (4.9.2)\n",
            "Requirement already satisfied: tqdm in /usr/local/lib/python3.10/dist-packages (from bioservices) (4.65.0)\n",
            "Requirement already satisfied: wrapt in /usr/local/lib/python3.10/dist-packages (from bioservices) (1.14.1)\n",
            "Collecting xmltodict (from bioservices)\n",
            "  Downloading xmltodict-0.13.0-py2.py3-none-any.whl (10.0 kB)\n",
            "Collecting colorama (from easydev>=0.12.0->bioservices)\n",
            "  Downloading colorama-0.4.6-py2.py3-none-any.whl (25 kB)\n",
            "Requirement already satisfied: pexpect in /usr/local/lib/python3.10/dist-packages (from easydev>=0.12.0->bioservices) (4.8.0)\n",
            "Requirement already satisfied: python-dateutil>=2.8.1 in /usr/local/lib/python3.10/dist-packages (from pandas>=0.21.1->bioservices) (2.8.2)\n",
            "Requirement already satisfied: pytz>=2020.1 in /usr/local/lib/python3.10/dist-packages (from pandas>=0.21.1->bioservices) (2022.7.1)\n",
            "Requirement already satisfied: numpy>=1.21.0 in /usr/local/lib/python3.10/dist-packages (from pandas>=0.21.1->bioservices) (1.22.4)\n",
            "Requirement already satisfied: soupsieve>1.2 in /usr/local/lib/python3.10/dist-packages (from beautifulsoup4->bioservices) (2.4.1)\n",
            "Collecting gevent (from grequests->bioservices)\n",
            "  Downloading gevent-22.10.2-cp310-cp310-manylinux_2_17_x86_64.manylinux2014_x86_64.whl (6.4 MB)\n",
            "\u001b[2K     \u001b[90m━━━━━━━━━━━━━━━━━━━━━━━━━━━━━━━━━━━━━━━━\u001b[0m \u001b[32m6.4/6.4 MB\u001b[0m \u001b[31m63.2 MB/s\u001b[0m eta \u001b[36m0:00:00\u001b[0m\n",
            "\u001b[?25hRequirement already satisfied: contourpy>=1.0.1 in /usr/local/lib/python3.10/dist-packages (from matplotlib->bioservices) (1.0.7)\n",
            "Requirement already satisfied: cycler>=0.10 in /usr/local/lib/python3.10/dist-packages (from matplotlib->bioservices) (0.11.0)\n",
            "Requirement already satisfied: fonttools>=4.22.0 in /usr/local/lib/python3.10/dist-packages (from matplotlib->bioservices) (4.39.3)\n",
            "Requirement already satisfied: kiwisolver>=1.0.1 in /usr/local/lib/python3.10/dist-packages (from matplotlib->bioservices) (1.4.4)\n",
            "Requirement already satisfied: packaging>=20.0 in /usr/local/lib/python3.10/dist-packages (from matplotlib->bioservices) (23.1)\n",
            "Requirement already satisfied: pillow>=6.2.0 in /usr/local/lib/python3.10/dist-packages (from matplotlib->bioservices) (8.4.0)\n",
            "Requirement already satisfied: pyparsing>=2.3.1 in /usr/local/lib/python3.10/dist-packages (from matplotlib->bioservices) (3.0.9)\n",
            "Requirement already satisfied: urllib3<1.27,>=1.21.1 in /usr/local/lib/python3.10/dist-packages (from requests->bioservices) (1.26.15)\n",
            "Requirement already satisfied: certifi>=2017.4.17 in /usr/local/lib/python3.10/dist-packages (from requests->bioservices) (2022.12.7)\n",
            "Requirement already satisfied: charset-normalizer~=2.0.0 in /usr/local/lib/python3.10/dist-packages (from requests->bioservices) (2.0.12)\n",
            "Requirement already satisfied: idna<4,>=2.5 in /usr/local/lib/python3.10/dist-packages (from requests->bioservices) (3.4)\n",
            "Requirement already satisfied: attrs>=21.2 in /usr/local/lib/python3.10/dist-packages (from requests_cache->bioservices) (23.1.0)\n",
            "Collecting cattrs>=22.2 (from requests_cache->bioservices)\n",
            "  Downloading cattrs-22.2.0-py3-none-any.whl (35 kB)\n",
            "Requirement already satisfied: platformdirs>=2.5 in /usr/local/lib/python3.10/dist-packages (from requests_cache->bioservices) (3.3.0)\n",
            "Collecting url-normalize>=1.4 (from requests_cache->bioservices)\n",
            "  Downloading url_normalize-1.4.3-py2.py3-none-any.whl (6.8 kB)\n",
            "Requirement already satisfied: exceptiongroup in /usr/local/lib/python3.10/dist-packages (from cattrs>=22.2->requests_cache->bioservices) (1.1.1)\n",
            "Requirement already satisfied: six>=1.5 in /usr/local/lib/python3.10/dist-packages (from python-dateutil>=2.8.1->pandas>=0.21.1->bioservices) (1.16.0)\n",
            "Collecting zope.event (from gevent->grequests->bioservices)\n",
            "  Downloading zope.event-4.6-py2.py3-none-any.whl (6.8 kB)\n",
            "Collecting zope.interface (from gevent->grequests->bioservices)\n",
            "  Downloading zope.interface-6.0-cp310-cp310-manylinux_2_5_x86_64.manylinux1_x86_64.manylinux_2_17_x86_64.manylinux2014_x86_64.whl (246 kB)\n",
            "\u001b[2K     \u001b[90m━━━━━━━━━━━━━━━━━━━━━━━━━━━━━━━━━━━━━━\u001b[0m \u001b[32m247.0/247.0 kB\u001b[0m \u001b[31m10.8 MB/s\u001b[0m eta \u001b[36m0:00:00\u001b[0m\n",
            "\u001b[?25hRequirement already satisfied: setuptools in /usr/local/lib/python3.10/dist-packages (from gevent->grequests->bioservices) (67.7.2)\n",
            "Requirement already satisfied: greenlet>=2.0.0 in /usr/local/lib/python3.10/dist-packages (from gevent->grequests->bioservices) (2.0.2)\n",
            "Requirement already satisfied: ptyprocess>=0.5 in /usr/local/lib/python3.10/dist-packages (from pexpect->easydev>=0.12.0->bioservices) (0.7.0)\n",
            "Building wheels for collected packages: bioservices, easydev\n",
            "  Building wheel for bioservices (setup.py) ... \u001b[?25l\u001b[?25hdone\n",
            "  Created wheel for bioservices: filename=bioservices-1.11.2-py3-none-any.whl size=223238 sha256=34c9780586a5b56256ebc723e6e87a3865b56449c63bbe52d033111885f3a46a\n",
            "  Stored in directory: /root/.cache/pip/wheels/bf/ac/b3/dc05e53581bbb58641e9ac52428b89d7fc0d9ddc44f9b16456\n",
            "  Building wheel for easydev (setup.py) ... \u001b[?25l\u001b[?25hdone\n",
            "  Created wheel for easydev: filename=easydev-0.12.1-py3-none-any.whl size=64214 sha256=0dadbcbac1ea9b78d7e172b47be6ce90e010bbe71cf30579930da6d33efaabe4\n",
            "  Stored in directory: /root/.cache/pip/wheels/c5/a3/df/e8e19f6f1674c2b0574ccc1a156292b599709eaa4feeea0fcf\n",
            "Successfully built bioservices easydev\n",
            "Installing collected packages: zope.interface, zope.event, xmltodict, url-normalize, suds-community, colorlog, colorama, cattrs, requests_cache, gevent, easydev, grequests, bioservices\n",
            "Successfully installed bioservices-1.11.2 cattrs-22.2.0 colorama-0.4.6 colorlog-6.7.0 easydev-0.12.1 gevent-22.10.2 grequests-0.6.0 requests_cache-1.0.1 suds-community-1.1.2 url-normalize-1.4.3 xmltodict-0.13.0 zope.event-4.6 zope.interface-6.0\n",
            "Creating directory /root/.config/bioservices \n",
            "Creating directory /root/.cache/bioservices \n",
            "Welcome to Bioservices\n",
            "======================\n",
            "It looks like you do not have a configuration file.\n",
            "We are creating one with default values in /root/.config/bioservices/bioservices.cfg .\n",
            "Done\n"
          ]
        },
        {
          "output_type": "error",
          "ename": "ValueError",
          "evalue": "ignored",
          "traceback": [
            "\u001b[0;31m---------------------------------------------------------------------------\u001b[0m",
            "\u001b[0;31mValueError\u001b[0m                                Traceback (most recent call last)",
            "\u001b[0;32m<ipython-input-1-6e38ac26fff9>\u001b[0m in \u001b[0;36m<cell line: 28>\u001b[0;34m()\u001b[0m\n\u001b[1;32m     26\u001b[0m \u001b[0;34m\u001b[0m\u001b[0m\n\u001b[1;32m     27\u001b[0m \u001b[0;31m# Perform pathway enrichment analysis\u001b[0m\u001b[0;34m\u001b[0m\u001b[0;34m\u001b[0m\u001b[0m\n\u001b[0;32m---> 28\u001b[0;31m \u001b[0mperform_pathway_enrichment\u001b[0m\u001b[0;34m(\u001b[0m\u001b[0mgene_list\u001b[0m\u001b[0;34m,\u001b[0m \u001b[0morganism\u001b[0m\u001b[0;34m)\u001b[0m\u001b[0;34m\u001b[0m\u001b[0;34m\u001b[0m\u001b[0m\n\u001b[0m",
            "\u001b[0;32m<ipython-input-1-6e38ac26fff9>\u001b[0m in \u001b[0;36mperform_pathway_enrichment\u001b[0;34m(gene_list, organism)\u001b[0m\n\u001b[1;32m     11\u001b[0m \u001b[0;32mdef\u001b[0m \u001b[0mperform_pathway_enrichment\u001b[0m\u001b[0;34m(\u001b[0m\u001b[0mgene_list\u001b[0m\u001b[0;34m,\u001b[0m \u001b[0morganism\u001b[0m\u001b[0;34m)\u001b[0m\u001b[0;34m:\u001b[0m\u001b[0;34m\u001b[0m\u001b[0;34m\u001b[0m\u001b[0m\n\u001b[1;32m     12\u001b[0m     \u001b[0;31m# Convert gene list to KEGG gene IDs\u001b[0m\u001b[0;34m\u001b[0m\u001b[0;34m\u001b[0m\u001b[0m\n\u001b[0;32m---> 13\u001b[0;31m     \u001b[0mkegg_genes\u001b[0m \u001b[0;34m=\u001b[0m \u001b[0mkegg\u001b[0m\u001b[0;34m.\u001b[0m\u001b[0mconv\u001b[0m\u001b[0;34m(\u001b[0m\u001b[0;34m\"genes\"\u001b[0m\u001b[0;34m,\u001b[0m \u001b[0;34m\"uniprot:\"\u001b[0m \u001b[0;34m+\u001b[0m \u001b[0;34m\" \"\u001b[0m\u001b[0;34m.\u001b[0m\u001b[0mjoin\u001b[0m\u001b[0;34m(\u001b[0m\u001b[0mgene_list\u001b[0m\u001b[0;34m)\u001b[0m\u001b[0;34m)\u001b[0m\u001b[0;34m\u001b[0m\u001b[0;34m\u001b[0m\u001b[0m\n\u001b[0m\u001b[1;32m     14\u001b[0m \u001b[0;34m\u001b[0m\u001b[0m\n\u001b[1;32m     15\u001b[0m     \u001b[0;31m# Get KEGG pathway annotations\u001b[0m\u001b[0;34m\u001b[0m\u001b[0;34m\u001b[0m\u001b[0m\n",
            "\u001b[0;32m/usr/local/lib/python3.10/dist-packages/bioservices/kegg.py\u001b[0m in \u001b[0;36mconv\u001b[0;34m(self, target, source)\u001b[0m\n\u001b[1;32m    657\u001b[0m             \u001b[0;34m\"glycan\"\u001b[0m\u001b[0;34m,\u001b[0m\u001b[0;34m\u001b[0m\u001b[0;34m\u001b[0m\u001b[0m\n\u001b[1;32m    658\u001b[0m         ]:\n\u001b[0;32m--> 659\u001b[0;31m             raise ValueError(\n\u001b[0m\u001b[1;32m    660\u001b[0m                 \"\"\"\n\u001b[1;32m    661\u001b[0m     \u001b[0mInvalid\u001b[0m \u001b[0msyntax\u001b[0m\u001b[0;34m.\u001b[0m \u001b[0mtarget\u001b[0m \u001b[0mmust\u001b[0m \u001b[0mbe\u001b[0m \u001b[0ma\u001b[0m \u001b[0mKEGG\u001b[0m \u001b[0mID\u001b[0m \u001b[0;32mor\u001b[0m\u001b[0;34m\u001b[0m\u001b[0;34m\u001b[0m\u001b[0m\n",
            "\u001b[0;31mValueError\u001b[0m: \n    Invalid syntax. target must be a KEGG ID or\n    one of the allowed database. See documentation og :meth:`conv` for\n    details"
          ]
        }
      ]
    },
    {
      "cell_type": "markdown",
      "source": [
        "# New section"
      ],
      "metadata": {
        "id": "AmhRJZT9bCr3"
      }
    },
    {
      "cell_type": "markdown",
      "source": [
        "# New section"
      ],
      "metadata": {
        "id": "w6_LZ1UrbDT1"
      }
    }
  ]
}