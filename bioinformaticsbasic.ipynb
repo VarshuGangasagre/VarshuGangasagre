{
  "nbformat": 4,
  "nbformat_minor": 0,
  "metadata": {
    "colab": {
      "provenance": [],
      "authorship_tag": "ABX9TyOFx1COLe+KW087pMWUjAxF",
      "include_colab_link": true
    },
    "kernelspec": {
      "name": "python3",
      "display_name": "Python 3"
    },
    "language_info": {
      "name": "python"
    }
  },
  "cells": [
    {
      "cell_type": "markdown",
      "metadata": {
        "id": "view-in-github",
        "colab_type": "text"
      },
      "source": [
        "<a href=\"https://colab.research.google.com/github/VarshuGangasagre/VarshuGangasagre/blob/main/bioinformaticsbasic.ipynb\" target=\"_parent\"><img src=\"https://colab.research.google.com/assets/colab-badge.svg\" alt=\"Open In Colab\"/></a>"
      ]
    },
    {
      "cell_type": "code",
      "execution_count": null,
      "metadata": {
        "id": "BOhlHFdyQHZi",
        "colab": {
          "base_uri": "https://localhost:8080/"
        },
        "outputId": "d471a80f-6c75-4bf4-917f-1c89c585fcc1"
      },
      "outputs": [
        {
          "output_type": "stream",
          "name": "stdout",
          "text": [
            "['VTLARTDLEMQIEGLKEELAYLRKNHEEEMLALRGQTGGDVNVEMDAAPGVDLSRILNEMRDQYEQMAEKNRRDAETWFLSKTEELNKEVASNSELVQSSRSEVTELRRVLQGLEIELQSQLSTKASLENSLEETKGRYCMQLSQIQGLIGSVEEQLAQLRCEMEQQSQEYQILLDVKTRLEHEIATYRRLLXGEDAHLSSQQASGQSYSSREVFTSSSSSSSRQTRPILKEQSSSSFSQGQSS']\n"
          ]
        }
      ],
      "source": [
        "#Read fasta file\n",
        "def read_fasta(file_path):\n",
        "    sequences = []\n",
        "    with open(file_path, 'r') as file:\n",
        "        lines = file.readlines()\n",
        "        sequence = ''\n",
        "        for line in lines:\n",
        "            if line.startswith('>'):\n",
        "                if sequence:\n",
        "                    sequences.append(sequence)\n",
        "                sequence = ''\n",
        "            else:\n",
        "                sequence += line.strip()\n",
        "        if sequence:\n",
        "            sequences.append(sequence)\n",
        "    return sequences\n",
        "\n",
        "file_path = '/content/keratinsequence.fasta'\n",
        "sequences = read_fasta(file_path)\n",
        "print(sequences)"
      ]
    },
    {
      "cell_type": "code",
      "source": [
        "def transcribe_dna_to_rna(dna_sequence):\n",
        "    rna_sequence = dna_sequence.replace('T', 'U')\n",
        "    return rna_sequence\n",
        "\n",
        "dna_sequence = 'ATGCATCGTACG'\n",
        "rna_sequence = transcribe_dna_to_rna(dna_sequence)\n",
        "print(rna_sequence)\n"
      ],
      "metadata": {
        "colab": {
          "base_uri": "https://localhost:8080/"
        },
        "id": "oDmkJL35Yoff",
        "outputId": "aacc91d8-50f6-4468-9ea4-c587ed180cb8"
      },
      "execution_count": null,
      "outputs": [
        {
          "output_type": "stream",
          "name": "stdout",
          "text": [
            "AUGCAUCGUACG\n"
          ]
        }
      ]
    },
    {
      "cell_type": "code",
      "source": [
        "#Counting DNA Nucleotides\n",
        "dna_sequence = \"ATCGGACCTAGTTTGGCCAATHGCATTGGCCGGTTAAAACCTGGG\"\n",
        "\n",
        "count_a = dna_sequence.count(\"A\")\n",
        "count_c = dna_sequence.count(\"C\")\n",
        "count_g = dna_sequence.count(\"G\")\n",
        "count_t = dna_sequence.count(\"T\")\n",
        "\n",
        "print(\"Count of A:\", count_a)\n",
        "print(\"Count of C:\", count_c)\n",
        "print(\"Count of G:\", count_g)\n",
        "print(\"Count of T:\", count_t)\n"
      ],
      "metadata": {
        "colab": {
          "base_uri": "https://localhost:8080/"
        },
        "id": "v50GeW9VZUwU",
        "outputId": "a3d80e3f-08c5-483f-eff3-25555ae9ee1b"
      },
      "execution_count": null,
      "outputs": [
        {
          "output_type": "stream",
          "name": "stdout",
          "text": [
            "Count of A: 10\n",
            "Count of C: 10\n",
            "Count of G: 13\n",
            "Count of T: 11\n"
          ]
        }
      ]
    },
    {
      "cell_type": "code",
      "source": [
        "#Transcribing DNA into RNA\n",
        "dna_sequence = \"ATCGTTGGCCAATTGCTGACTAGACCTAGT\"\n",
        "rna_sequence = dna_sequence.replace(\"T\", \"U\")\n",
        "\n",
        "print(\"RNA sequence:\", rna_sequence)\n"
      ],
      "metadata": {
        "colab": {
          "base_uri": "https://localhost:8080/"
        },
        "id": "UC4aENCiZk5N",
        "outputId": "30277a4c-9d40-46c5-abaa-cd8bc66fd754"
      },
      "execution_count": null,
      "outputs": [
        {
          "output_type": "stream",
          "name": "stdout",
          "text": [
            "RNA sequence: AUCGUUGGCCAAUUGCUGACUAGACCUAGU\n"
          ]
        }
      ]
    },
    {
      "cell_type": "code",
      "source": [
        "#Reverse Complement DNA to RNA\n",
        "dna_sequence = \"ATCGGACCTAGGGCCTTAGCCATGCGTAAATGAATGCGT\"\n",
        "\n",
        "complement_dict = {\"A\": \"T\", \"T\": \"A\", \"C\": \"G\", \"G\": \"C\"}\n",
        "\n",
        "reverse_complement = \"\".join(complement_dict[base] for base in reversed(dna_sequence))\n",
        "\n",
        "print(\"Reverse complement:\", reverse_complement)\n"
      ],
      "metadata": {
        "colab": {
          "base_uri": "https://localhost:8080/"
        },
        "id": "yeqx58CPaB5c",
        "outputId": "75ca297c-76d3-4abd-dd1b-81d87afc67f0"
      },
      "execution_count": null,
      "outputs": [
        {
          "output_type": "stream",
          "name": "stdout",
          "text": [
            "Reverse complement: ACGCATTCATTTACGCATGGCTAAGGCCCTAGGTCCGAT\n"
          ]
        }
      ]
    },
    {
      "cell_type": "code",
      "source": [
        "#Calculate GC content\n",
        "dna_sequence = \"ATCGGACAATTGCGCGTAGACGCTGCGCGCGACGTGCAGATT\"\n",
        "\n",
        "gc_content = (dna_sequence.count(\"G\") + dna_sequence.count(\"C\")) / len(dna_sequence) * 100\n",
        "\n",
        "print(\"GC content:\", gc_content)\n"
      ],
      "metadata": {
        "colab": {
          "base_uri": "https://localhost:8080/"
        },
        "id": "x5kVKyaSabLH",
        "outputId": "37dc315d-28fa-4bdf-eaeb-d986155d501d"
      },
      "execution_count": null,
      "outputs": [
        {
          "output_type": "stream",
          "name": "stdout",
          "text": [
            "GC content: 59.523809523809526\n"
          ]
        }
      ]
    },
    {
      "cell_type": "code",
      "source": [
        "dna_sequence = \"ATGCGCCACGATGCT\"\n",
        "\n",
        "# Transcription\n",
        "rna_sequence = dna_sequence.replace(\"T\", \"U\")\n",
        "\n",
        "# Translation\n",
        "genetic_code = {\n",
        "    \"UUU\": \"F\", \"UUC\": \"F\", \"UUA\": \"L\", \"UUG\": \"L\",\n",
        "    \"CUU\": \"L\", \"CUC\": \"L\", \"CUA\": \"L\", \"CUG\": \"L\",\n",
        "    \"AUU\": \"I\", \"AUC\": \"I\", \"AUA\": \"I\", \"AUG\": \"M\",\n",
        "    \"GUU\": \"V\", \"GUC\": \"V\", \"GUA\": \"V\", \"GUG\": \"V\",\n",
        "    \"UCU\": \"S\", \"UCC\": \"S\", \"UCA\": \"S\", \"UCG\": \"S\",\n",
        "    \"CCU\": \"P\", \"CCC\": \"P\", \"CCA\": \"P\", \"CCG\": \"P\",\n",
        "    \"ACU\": \"T\", \"ACC\": \"T\", \"ACA\": \"T\", \"ACG\": \"T\",\n",
        "    \"GCU\": \"A\", \"GCC\": \"A\", \"GCA\": \"A\", \"GCG\": \"A\",\n",
        "    \"UAU\": \"Y\", \"UAC\": \"Y\", \"UAA\": \"*\", \"UAG\": \"*\",\n",
        "    \"CAU\": \"H\", \"CAC\": \"H\", \"CAA\": \"Q\", \"CAG\": \"Q\",\n",
        "    \"AAU\": \"N\", \"AAC\": \"N\", \"AAA\": \"K\", \"AAG\": \"K\",\n",
        "    \"GAU\": \"D\", \"GAC\": \"D\", \"GAA\": \"E\", \"GAG\": \"E\",\n",
        "    \"UGU\": \"C\", \"UGC\": \"C\", \"UGA\": \"*\", \"UGG\": \"W\",\n",
        "    \"CGU\": \"R\", \"CGC\": \"R\", \"CGA\": \"R\", \"CGG\": \"R\",\n",
        "    \"AGU\": \"S\", \"AGC\": \"S\", \"AGA\": \"R\", \"AGG\": \"R\",\n",
        "    \"GGU\": \"G\", \"GGC\": \"G\", \"GGA\": \"G\", \"GGG\": \"G\",\n",
        "}\n",
        "\n",
        "protein_sequence = \"\".join(genetic_code.get(rna_sequence[i:i+3], \"\") for i in range(0, len(rna_sequence), 3))\n",
        "\n",
        "print(\"Protein sequence:\", protein_sequence)\n"
      ],
      "metadata": {
        "colab": {
          "base_uri": "https://localhost:8080/"
        },
        "id": "x9zS27ZdcR1K",
        "outputId": "837ad863-1127-446d-9563-3151e2368043"
      },
      "execution_count": null,
      "outputs": [
        {
          "output_type": "stream",
          "name": "stdout",
          "text": [
            "Protein sequence: MRHDA\n"
          ]
        }
      ]
    },
    {
      "cell_type": "code",
      "source": [
        "#Hamming distance\n",
        "sequence1 = \"ATCGGACCTAGTCTACTGCGTA\"\n",
        "sequence2 = \"ATTGGACCTAATCTGTCTACGTA\"\n",
        "\n",
        "hamming_distance = sum(base1 != base2 for base1, base2 in zip(sequence1, sequence2))\n",
        "\n",
        "print(\"Hamming distance:\", hamming_distance)\n"
      ],
      "metadata": {
        "colab": {
          "base_uri": "https://localhost:8080/"
        },
        "id": "AAuJBnFncccH",
        "outputId": "313cf790-3b6d-43ac-bb09-c2f35dca8213"
      },
      "execution_count": null,
      "outputs": [
        {
          "output_type": "stream",
          "name": "stdout",
          "text": [
            "Hamming distance: 10\n"
          ]
        }
      ]
    },
    {
      "cell_type": "code",
      "source": [
        "#DNA motif findings\n",
        "dna_sequence = \"ATCGGACCTAGT\"\n",
        "motif = \"ACCT\"\n",
        "\n",
        "occurrences = []\n",
        "start = 0\n",
        "\n",
        "while True:\n",
        "    index = dna_sequence.find(motif, start)\n",
        "    if index == -1:\n",
        "        break\n",
        "    occurrences.append(index)\n",
        "    start = index + 1\n",
        "\n",
        "print(\"Occurrences of motif:\", occurrences)\n"
      ],
      "metadata": {
        "colab": {
          "base_uri": "https://localhost:8080/"
        },
        "id": "pj7kwaLCc4I_",
        "outputId": "6a76ca52-47ef-4b72-dde7-5e8294bd6c74"
      },
      "execution_count": null,
      "outputs": [
        {
          "output_type": "stream",
          "name": "stdout",
          "text": [
            "Occurrences of motif: [5]\n"
          ]
        }
      ]
    },
    {
      "cell_type": "code",
      "source": [
        "#DNA restriction enzyme digestion\n",
        "dna_sequence = \"ATCGGACCTAGT\"\n",
        "restriction_site = \"CC\"\n",
        "\n",
        "cleavage_sites = []\n",
        "start = 0\n",
        "\n",
        "while True:\n",
        "    index = dna_sequence.find(restriction_site, start)\n",
        "    if index == -1:\n",
        "        break\n",
        "    cleavage_sites.append(index)\n",
        "    start = index + 1\n",
        "\n",
        "print(\"Cleavage sites:\", cleavage_sites)\n"
      ],
      "metadata": {
        "colab": {
          "base_uri": "https://localhost:8080/"
        },
        "id": "QXsBRBvPdDU5",
        "outputId": "840accfa-cbe5-4327-dbbf-00ac67708dc0"
      },
      "execution_count": null,
      "outputs": [
        {
          "output_type": "stream",
          "name": "stdout",
          "text": [
            "Cleavage sites: [6]\n"
          ]
        }
      ]
    },
    {
      "cell_type": "code",
      "source": [
        "#DNA translation frames\n",
        "dna_sequence = \"ATGCGCCACGATGCT\"\n",
        "\n",
        "# Forward frames\n",
        "frames = [dna_sequence[i:] for i in range(3)]\n",
        "# Reverse frames\n",
        "frames += [dna_sequence[::-1][i:] for i in range(3)]\n",
        "\n",
        "# Translation\n",
        "protein_sequences = []\n",
        "for frame in frames:\n",
        "    rna_sequence = frame.replace(\"T\", \"U\")\n",
        "    protein_sequence = \"\"\n",
        "    for i in range(0, len(rna_sequence), 3):\n",
        "        codon = rna_sequence[i:i+3]\n",
        "        if codon in genetic_code:\n",
        "            protein_sequence += genetic_code[codon]\n",
        "        else:\n",
        "            protein_sequence += \"X\"  # Placeholder for unknown codons\n",
        "    protein_sequences.append(protein_sequence)\n",
        "\n",
        "print(\"Protein sequences:\")\n",
        "for i, seq in enumerate(protein_sequences):\n",
        "    print(\"Frame\", i+1, \":\", seq)\n"
      ],
      "metadata": {
        "colab": {
          "base_uri": "https://localhost:8080/"
        },
        "id": "ySRpbNMKdhCI",
        "outputId": "06240863-d6d1-4d8a-91b4-a4910a70ef32"
      },
      "execution_count": null,
      "outputs": [
        {
          "output_type": "stream",
          "name": "stdout",
          "text": [
            "Protein sequences:\n",
            "Frame 1 : MRHDA\n",
            "Frame 2 : CATMX\n",
            "Frame 3 : APRCX\n",
            "Frame 4 : S*HRV\n",
            "Frame 5 : RSTAX\n",
            "Frame 6 : VAPRX\n"
          ]
        }
      ]
    },
    {
      "cell_type": "code",
      "source": [
        "#Transmembrane helices\n",
        "protein_sequence = \"MNSLFERLIAIAAVPLLIALMVTDLFKRTSKRYVDNDYDKYVYDVSTV\"\n",
        "\n",
        "# Predict transmembrane helices (example algorithm)\n",
        "transmembrane_regions = [(10, 25), (30, 45)]\n",
        "\n",
        "print(\"Transmembrane helices:\")\n",
        "for start, end in transmembrane_regions:\n",
        "    print(\"Start:\", start, \"End:\", end)\n"
      ],
      "metadata": {
        "colab": {
          "base_uri": "https://localhost:8080/"
        },
        "id": "9gs7BKWHdqrm",
        "outputId": "b715a544-7bf4-4db5-cb93-0d7ce7cc964f"
      },
      "execution_count": null,
      "outputs": [
        {
          "output_type": "stream",
          "name": "stdout",
          "text": [
            "Transmembrane helices:\n",
            "Start: 10 End: 25\n",
            "Start: 30 End: 45\n"
          ]
        }
      ]
    }
  ]
}