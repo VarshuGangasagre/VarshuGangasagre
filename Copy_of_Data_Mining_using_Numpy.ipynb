{
  "nbformat": 4,
  "nbformat_minor": 0,
  "metadata": {
    "colab": {
      "name": "Copy of Data Mining using Numpy.ipynb",
      "provenance": [],
      "collapsed_sections": [],
      "authorship_tag": "ABX9TyN6zCl8RFGjfeZbLaaMiaYA",
      "include_colab_link": true
    },
    "kernelspec": {
      "name": "python3",
      "display_name": "Python 3"
    },
    "language_info": {
      "name": "python"
    }
  },
  "cells": [
    {
      "cell_type": "markdown",
      "metadata": {
        "id": "view-in-github",
        "colab_type": "text"
      },
      "source": [
        "<a href=\"https://colab.research.google.com/github/VarshuGangasagre/VarshuGangasagre/blob/main/Copy_of_Data_Mining_using_Numpy.ipynb\" target=\"_parent\"><img src=\"https://colab.research.google.com/assets/colab-badge.svg\" alt=\"Open In Colab\"/></a>"
      ]
    },
    {
      "cell_type": "code",
      "execution_count": null,
      "metadata": {
        "colab": {
          "base_uri": "https://localhost:8080/"
        },
        "id": "T7ui-04kZnZj",
        "outputId": "1eda373e-f59f-4f0d-d973-005eb8b120bb"
      },
      "outputs": [
        {
          "output_type": "stream",
          "name": "stdout",
          "text": [
            "['apple', 'banana', 'orange', 'lichi']\n"
          ]
        }
      ],
      "source": [
        "x=['apple','banana','orange','lichi']\n",
        "print(x)"
      ]
    },
    {
      "cell_type": "code",
      "source": [
        "x=['apple','banana','orange','lichi']\n",
        "print('lichi'in x)"
      ],
      "metadata": {
        "colab": {
          "base_uri": "https://localhost:8080/"
        },
        "id": "GymvQ5G5aRLU",
        "outputId": "cd6cb7fc-d730-414b-e1ec-a2ce162bb0e3"
      },
      "execution_count": null,
      "outputs": [
        {
          "output_type": "stream",
          "name": "stdout",
          "text": [
            "True\n"
          ]
        }
      ]
    },
    {
      "cell_type": "code",
      "source": [
        "a=5\n",
        "b=0.6\n",
        "c='Varsha'\n",
        "print(\"type of the variable:\",type(a));\n",
        "print(\"type of the variable:\",type(b));\n",
        "print(\"type of the variable:\",type(c));"
      ],
      "metadata": {
        "colab": {
          "base_uri": "https://localhost:8080/"
        },
        "id": "ZnD42URfa2N3",
        "outputId": "b1502bd1-adf3-4812-b121-64fb52ed87f3"
      },
      "execution_count": null,
      "outputs": [
        {
          "output_type": "stream",
          "name": "stdout",
          "text": [
            "type of the variable: <class 'int'>\n",
            "type of the variable: <class 'float'>\n",
            "type of the variable: <class 'str'>\n"
          ]
        }
      ]
    },
    {
      "cell_type": "code",
      "source": [
        "x.append('mango')"
      ],
      "metadata": {
        "id": "ytj9pwC8buzU"
      },
      "execution_count": null,
      "outputs": []
    },
    {
      "cell_type": "code",
      "source": [
        "print(x)"
      ],
      "metadata": {
        "colab": {
          "base_uri": "https://localhost:8080/"
        },
        "id": "r1gofqO4b1YH",
        "outputId": "28b91396-9dcf-4e81-e351-98a554d2d8d4"
      },
      "execution_count": null,
      "outputs": [
        {
          "output_type": "stream",
          "name": "stdout",
          "text": [
            "['apple', 'banana', 'orange', 'lichi', 'mango']\n"
          ]
        }
      ]
    },
    {
      "cell_type": "code",
      "source": [
        "y={\"apple\",\"cherry\",\"mango\"}\n",
        "type(y)"
      ],
      "metadata": {
        "colab": {
          "base_uri": "https://localhost:8080/"
        },
        "id": "jb69CBe3cJkx",
        "outputId": "c0912d68-8f42-4476-a760-468dac42d3de"
      },
      "execution_count": null,
      "outputs": [
        {
          "output_type": "execute_result",
          "data": {
            "text/plain": [
              "set"
            ]
          },
          "metadata": {},
          "execution_count": 17
        }
      ]
    },
    {
      "cell_type": "code",
      "source": [
        "type(x)"
      ],
      "metadata": {
        "colab": {
          "base_uri": "https://localhost:8080/"
        },
        "id": "YEkn0Bugc1Y7",
        "outputId": "8d21cfe0-bb3e-427b-b266-4fd5098a2c2a"
      },
      "execution_count": null,
      "outputs": [
        {
          "output_type": "execute_result",
          "data": {
            "text/plain": [
              "list"
            ]
          },
          "metadata": {},
          "execution_count": 18
        }
      ]
    },
    {
      "cell_type": "code",
      "source": [
        "y.add(\"lichi\")\n",
        "print(y)"
      ],
      "metadata": {
        "colab": {
          "base_uri": "https://localhost:8080/"
        },
        "id": "noCgWNEPc4eA",
        "outputId": "56aaae0a-c6fa-45a4-f95d-5f8995dca1a7"
      },
      "execution_count": null,
      "outputs": [
        {
          "output_type": "stream",
          "name": "stdout",
          "text": [
            "{'cherry', 'mango', 'lichi', 'apple'}\n"
          ]
        }
      ]
    },
    {
      "cell_type": "code",
      "source": [
        "z=('apple','orange','berry')\n",
        "print(z)\n",
        "type(z)"
      ],
      "metadata": {
        "colab": {
          "base_uri": "https://localhost:8080/"
        },
        "id": "rPqFkuM-dsGm",
        "outputId": "a5da359e-ed52-44ae-c456-f651e0a3df04"
      },
      "execution_count": null,
      "outputs": [
        {
          "output_type": "stream",
          "name": "stdout",
          "text": [
            "('apple', 'orange', 'berry')\n"
          ]
        },
        {
          "output_type": "execute_result",
          "data": {
            "text/plain": [
              "tuple"
            ]
          },
          "metadata": {},
          "execution_count": 20
        }
      ]
    },
    {
      "cell_type": "code",
      "source": [
        "x1={\"s\",\"p\",\"q\",\"r\"}\n",
        "type(x1)"
      ],
      "metadata": {
        "colab": {
          "base_uri": "https://localhost:8080/"
        },
        "id": "VTb_TEdzhCfW",
        "outputId": "cedf01ea-2ee9-43ed-8b6f-6d5eefae6a5f"
      },
      "execution_count": null,
      "outputs": [
        {
          "output_type": "execute_result",
          "data": {
            "text/plain": [
              "set"
            ]
          },
          "metadata": {},
          "execution_count": 21
        }
      ]
    },
    {
      "cell_type": "code",
      "source": [
        "thisdict = {\n",
        "  \"brand\": \"Ford\",\n",
        "  \"model\": \"Mustang\",\n",
        "  \"year\": 1964\n",
        "}"
      ],
      "metadata": {
        "id": "oF-1Xql9hkGt"
      },
      "execution_count": null,
      "outputs": []
    },
    {
      "cell_type": "code",
      "source": [
        "thisdict"
      ],
      "metadata": {
        "colab": {
          "base_uri": "https://localhost:8080/"
        },
        "id": "hf8p0x4GhvD8",
        "outputId": "c1f71bb6-e464-4a2b-bca8-5466acde3d18"
      },
      "execution_count": null,
      "outputs": [
        {
          "output_type": "execute_result",
          "data": {
            "text/plain": [
              "{'brand': 'Ford', 'model': 'Mustang', 'year': 1964}"
            ]
          },
          "metadata": {},
          "execution_count": 23
        }
      ]
    },
    {
      "cell_type": "code",
      "source": [
        "c=50\n",
        "d=60\n",
        "print(\"c\")if c>d else print(\"D\")"
      ],
      "metadata": {
        "colab": {
          "base_uri": "https://localhost:8080/"
        },
        "id": "sXr-IpBriYY5",
        "outputId": "5f912565-3cce-4bb2-ffba-cfdee2115349"
      },
      "execution_count": null,
      "outputs": [
        {
          "output_type": "stream",
          "name": "stdout",
          "text": [
            "D\n"
          ]
        }
      ]
    },
    {
      "cell_type": "code",
      "source": [
        "for i in range(10):\n",
        "  print(i)"
      ],
      "metadata": {
        "colab": {
          "base_uri": "https://localhost:8080/"
        },
        "id": "TX30BXJtjXuD",
        "outputId": "11ee5963-c782-4efc-dea3-9b89f78b347f"
      },
      "execution_count": null,
      "outputs": [
        {
          "output_type": "stream",
          "name": "stdout",
          "text": [
            "0\n",
            "1\n",
            "2\n",
            "3\n",
            "4\n",
            "5\n",
            "6\n",
            "7\n",
            "8\n",
            "9\n"
          ]
        }
      ]
    },
    {
      "cell_type": "code",
      "source": [
        "for i in range (1,11):\n",
        "  print(\"i\",i)"
      ],
      "metadata": {
        "colab": {
          "base_uri": "https://localhost:8080/"
        },
        "id": "2B-rxe_8jj_4",
        "outputId": "547eb468-98fc-4a05-ae12-0e3041e96241"
      },
      "execution_count": null,
      "outputs": [
        {
          "output_type": "stream",
          "name": "stdout",
          "text": [
            "i 1\n",
            "i 2\n",
            "i 3\n",
            "i 4\n",
            "i 5\n",
            "i 6\n",
            "i 7\n",
            "i 8\n",
            "i 9\n",
            "i 10\n"
          ]
        }
      ]
    },
    {
      "cell_type": "code",
      "source": [
        "for x in range(2,41,2):\n",
        "  print(x)"
      ],
      "metadata": {
        "colab": {
          "base_uri": "https://localhost:8080/"
        },
        "id": "W7pe0KtBj4MH",
        "outputId": "42cef584-64c3-462d-9b21-45308d584f86"
      },
      "execution_count": null,
      "outputs": [
        {
          "output_type": "stream",
          "name": "stdout",
          "text": [
            "2\n",
            "4\n",
            "6\n",
            "8\n",
            "10\n",
            "12\n",
            "14\n",
            "16\n",
            "18\n",
            "20\n",
            "22\n",
            "24\n",
            "26\n",
            "28\n",
            "30\n",
            "32\n",
            "34\n",
            "36\n",
            "38\n",
            "40\n"
          ]
        }
      ]
    },
    {
      "cell_type": "code",
      "source": [
        "fruits=[\"apple\",\"banana\",\"cherry\",\"lichi\"]\n",
        "for i in fruits:\n",
        "  print(i)\n",
        "  if i==\"banana\":\n",
        "    break"
      ],
      "metadata": {
        "colab": {
          "base_uri": "https://localhost:8080/"
        },
        "id": "-4rSC31wkMhr",
        "outputId": "7fc91fbc-6796-46eb-9040-832ddcf09a63"
      },
      "execution_count": null,
      "outputs": [
        {
          "output_type": "stream",
          "name": "stdout",
          "text": [
            "apple\n",
            "banana\n"
          ]
        }
      ]
    },
    {
      "cell_type": "code",
      "source": [
        "fruits=[\"apple\",\"banana\",\"cherry\",\"lichi\"]\n",
        "for x in fruits:\n",
        "  if x==\"banana\":\n",
        "    break\n",
        "    print(x)"
      ],
      "metadata": {
        "id": "gyvdLbR8lAjx"
      },
      "execution_count": null,
      "outputs": []
    },
    {
      "cell_type": "code",
      "source": [
        "print(x)"
      ],
      "metadata": {
        "colab": {
          "base_uri": "https://localhost:8080/"
        },
        "id": "jzINH4ellhS4",
        "outputId": "7ed95c0b-0a62-422b-f5b1-6225c72feb2f"
      },
      "execution_count": null,
      "outputs": [
        {
          "output_type": "stream",
          "name": "stdout",
          "text": [
            "banana\n"
          ]
        }
      ]
    },
    {
      "cell_type": "code",
      "source": [
        "#Nested Loop\n",
        "adj = [\"red\", \"big\", \"tasty\"]\n",
        "fruits = [\"apple\", \"banana\", \"cherry\"]\n",
        "\n",
        "for x in adj:\n",
        "  for y in fruits:\n",
        "    print(x, y)"
      ],
      "metadata": {
        "colab": {
          "base_uri": "https://localhost:8080/"
        },
        "id": "qBrCMsOjoibR",
        "outputId": "acd1544d-3ff1-4893-9480-f21dfde9da83"
      },
      "execution_count": null,
      "outputs": [
        {
          "output_type": "stream",
          "name": "stdout",
          "text": [
            "red apple\n",
            "red banana\n",
            "red cherry\n",
            "big apple\n",
            "big banana\n",
            "big cherry\n",
            "tasty apple\n",
            "tasty banana\n",
            "tasty cherry\n"
          ]
        }
      ]
    },
    {
      "cell_type": "code",
      "source": [
        "#While loop\n",
        "i=1\n",
        "while i<6:\n",
        "  print(i)\n",
        "  i=i+1\n",
        "  print(\"incremented\",i)"
      ],
      "metadata": {
        "colab": {
          "base_uri": "https://localhost:8080/"
        },
        "id": "GS0ag0K4orNq",
        "outputId": "6d80956a-08ad-40aa-9e21-96c5c6963eed"
      },
      "execution_count": null,
      "outputs": [
        {
          "output_type": "stream",
          "name": "stdout",
          "text": [
            "1\n",
            "incremented 2\n",
            "2\n",
            "incremented 3\n",
            "3\n",
            "incremented 4\n",
            "4\n",
            "incremented 5\n",
            "5\n",
            "incremented 6\n"
          ]
        }
      ]
    },
    {
      "cell_type": "code",
      "source": [
        "import numpy as np\n",
        "#let us understand why numpy\n",
        "distance=[10,15,17,20,26]\n",
        "time=[0.3,0.7,55,7.5,1.2]\n",
        "type(distance)\n",
        "type(time)"
      ],
      "metadata": {
        "colab": {
          "base_uri": "https://localhost:8080/"
        },
        "id": "huuNDh3ppWeM",
        "outputId": "27c220e2-8d5d-4d62-c306-620eae8442cd"
      },
      "execution_count": null,
      "outputs": [
        {
          "output_type": "execute_result",
          "data": {
            "text/plain": [
              "list"
            ]
          },
          "metadata": {},
          "execution_count": 33
        }
      ]
    },
    {
      "cell_type": "code",
      "source": [
        "# Introduction To Functions (Built in functions)\n",
        "#abs() absoulate value of a number\n",
        "#integer number\n",
        "integer=-50\n",
        "print('Absolute value of -50 is:',abs(integer))\n"
      ],
      "metadata": {
        "colab": {
          "base_uri": "https://localhost:8080/"
        },
        "id": "kUxQ9h4ffCGc",
        "outputId": "9856143e-b646-493b-9318-e30f78546e02"
      },
      "execution_count": null,
      "outputs": [
        {
          "output_type": "stream",
          "name": "stdout",
          "text": [
            "Absolute value of -50 is: 50\n"
          ]
        }
      ]
    },
    {
      "cell_type": "code",
      "source": [
        "#all() It returns if all the items in passed iterable are true\n",
        "a=[1,2,3,4,5]\n",
        "print(all (a))\n",
        "print()"
      ],
      "metadata": {
        "colab": {
          "base_uri": "https://localhost:8080/"
        },
        "id": "ypK1hal0gSDA",
        "outputId": "a5cb638f-c0ec-48c1-b015-6019285fa822"
      },
      "execution_count": null,
      "outputs": [
        {
          "output_type": "stream",
          "name": "stdout",
          "text": [
            "True\n",
            "\n"
          ]
        }
      ]
    },
    {
      "cell_type": "code",
      "source": [
        "# bin() function is used to return the binary representation of the integer\n",
        "x=10\n",
        "y=bin(x)\n",
        "print(y)"
      ],
      "metadata": {
        "colab": {
          "base_uri": "https://localhost:8080/"
        },
        "id": "qkntxMrbhfQV",
        "outputId": "677e0fc0-d3f2-47aa-cf36-fac510e3ba49"
      },
      "execution_count": null,
      "outputs": [
        {
          "output_type": "stream",
          "name": "stdout",
          "text": [
            "0b1010\n"
          ]
        }
      ]
    },
    {
      "cell_type": "code",
      "source": [
        "#bool() converts a value to boolean (true or false)using standard truth testing procedure\n",
        "demo1=[0]\n",
        "print(demo1,'is',bool(demo1))"
      ],
      "metadata": {
        "colab": {
          "base_uri": "https://localhost:8080/"
        },
        "id": "txeiQiw1hzZL",
        "outputId": "63c4030d-b977-4ccb-b164-2f7d11dc82fb"
      },
      "execution_count": null,
      "outputs": [
        {
          "output_type": "stream",
          "name": "stdout",
          "text": [
            "[0] is True\n"
          ]
        }
      ]
    },
    {
      "cell_type": "code",
      "source": [
        "#bytes() It is used to returning a byte object\n",
        "string=\"Hello\"\n",
        "array=bytes(string,'utf-8')\n",
        "print(array)"
      ],
      "metadata": {
        "colab": {
          "base_uri": "https://localhost:8080/"
        },
        "id": "o0nzs2s_isJ_",
        "outputId": "2ce2a3e1-21f9-4346-9595-80c34844b99d"
      },
      "execution_count": null,
      "outputs": [
        {
          "output_type": "stream",
          "name": "stdout",
          "text": [
            "b'Hello'\n"
          ]
        }
      ]
    },
    {
      "cell_type": "code",
      "source": [
        "#exec() functions is used to dyanamic exection of python program than can either be a string or object code\n",
        "a=20\n",
        "exec('print(a==10)')\n",
        "exec('print(a+10)')\n",
        "exec(\"print(a==20)\")\n"
      ],
      "metadata": {
        "colab": {
          "base_uri": "https://localhost:8080/"
        },
        "id": "ClvVM8NLjh7Y",
        "outputId": "addfce6c-c04a-4db1-9969-0dc4c78c0f83"
      },
      "execution_count": null,
      "outputs": [
        {
          "output_type": "stream",
          "name": "stdout",
          "text": [
            "False\n",
            "30\n",
            "True\n"
          ]
        }
      ]
    },
    {
      "cell_type": "code",
      "source": [
        "#sum()\n",
        "num=[1,2,3,4,5,6,7]\n",
        "demo=sum(num)\n",
        "print(demo)"
      ],
      "metadata": {
        "colab": {
          "base_uri": "https://localhost:8080/"
        },
        "id": "eCgTgxtCmANo",
        "outputId": "9f87cf46-d8ef-41e9-b072-d35a291e07bb"
      },
      "execution_count": null,
      "outputs": [
        {
          "output_type": "stream",
          "name": "stdout",
          "text": [
            "28\n"
          ]
        }
      ]
    },
    {
      "cell_type": "code",
      "source": [
        "#any() function returns true if any item in an iterable is true or false\n",
        "L=[41,31,56,75]\n",
        "print(any(L))"
      ],
      "metadata": {
        "colab": {
          "base_uri": "https://localhost:8080/"
        },
        "id": "yB8eq8KGmfCi",
        "outputId": "85225314-b008-4420-a211-30c1a7dcc1e6"
      },
      "execution_count": null,
      "outputs": [
        {
          "output_type": "stream",
          "name": "stdout",
          "text": [
            "True\n"
          ]
        }
      ]
    },
    {
      "cell_type": "code",
      "source": [
        "#eval() functions parses the expression is passed to it and executes python expression\n",
        "x=30\n",
        "print(eval('x*10'))"
      ],
      "metadata": {
        "colab": {
          "base_uri": "https://localhost:8080/"
        },
        "id": "jLim9l6AnqrS",
        "outputId": "fef8b0d3-2d67-4dc4-ddf0-abb405864f38"
      },
      "execution_count": null,
      "outputs": [
        {
          "output_type": "stream",
          "name": "stdout",
          "text": [
            "300\n"
          ]
        }
      ]
    },
    {
      "cell_type": "code",
      "source": [
        "#float() \n",
        "x=10\n",
        "print(type(x))\n",
        "y=float (9)\n",
        "print(type(y))\n",
        "a=\"0.11\"\n",
        "print(type(a))\n",
        "b=float(\"0.11\")\n",
        "print(type(b))\n"
      ],
      "metadata": {
        "colab": {
          "base_uri": "https://localhost:8080/"
        },
        "id": "zRLI-Hk0ohJb",
        "outputId": "ae49cb6d-e29e-4899-a174-51ba4b282df3"
      },
      "execution_count": null,
      "outputs": [
        {
          "output_type": "stream",
          "name": "stdout",
          "text": [
            "<class 'int'>\n",
            "<class 'float'>\n",
            "<class 'str'>\n",
            "<class 'float'>\n"
          ]
        }
      ]
    },
    {
      "cell_type": "code",
      "source": [
        "#formal() Two-decimal formal\n",
        "data=\"The bag {price:2f}dollars!\"\n",
        "print(data.format(price=149))\n"
      ],
      "metadata": {
        "colab": {
          "base_uri": "https://localhost:8080/"
        },
        "id": "xhN3IyS0pndi",
        "outputId": "53888101-d418-4b06-f6f8-3e776220fcee"
      },
      "execution_count": null,
      "outputs": [
        {
          "output_type": "stream",
          "name": "stdout",
          "text": [
            "The bag 149.000000dollars!\n"
          ]
        }
      ]
    },
    {
      "cell_type": "code",
      "source": [
        "# Iter()\n",
        "list=[2,3,4,5,6]\n",
        "list_iter=iter(list)\n",
        "print(list)\n",
        "len(list)\n",
        "min(list)\n",
        "max(list)"
      ],
      "metadata": {
        "colab": {
          "base_uri": "https://localhost:8080/"
        },
        "id": "fqzLIlC_rbmW",
        "outputId": "e0b8924b-fb70-41ba-c6b7-9d703911faaf"
      },
      "execution_count": null,
      "outputs": [
        {
          "output_type": "stream",
          "name": "stdout",
          "text": [
            "[2, 3, 4, 5, 6]\n"
          ]
        },
        {
          "output_type": "execute_result",
          "data": {
            "text/plain": [
              "6"
            ]
          },
          "metadata": {},
          "execution_count": 45
        }
      ]
    },
    {
      "cell_type": "code",
      "source": [
        "#len()\n",
        "len(list)"
      ],
      "metadata": {
        "colab": {
          "base_uri": "https://localhost:8080/"
        },
        "id": "am-v-7HqsaqB",
        "outputId": "c561d235-9dbe-4083-a3ca-8b0b912ce825"
      },
      "execution_count": null,
      "outputs": [
        {
          "output_type": "execute_result",
          "data": {
            "text/plain": [
              "5"
            ]
          },
          "metadata": {},
          "execution_count": 46
        }
      ]
    },
    {
      "cell_type": "code",
      "source": [
        "#max()\n",
        "max(list)"
      ],
      "metadata": {
        "colab": {
          "base_uri": "https://localhost:8080/"
        },
        "id": "An4wNTVZswN2",
        "outputId": "3a3dff8c-8a5b-4a1b-d91a-555780a556be"
      },
      "execution_count": null,
      "outputs": [
        {
          "output_type": "execute_result",
          "data": {
            "text/plain": [
              "6"
            ]
          },
          "metadata": {},
          "execution_count": 47
        }
      ]
    },
    {
      "cell_type": "code",
      "source": [
        "#set()\n",
        "list=[1,2,3,4,5,6]\n",
        "a=set(list)\n",
        "print(a)"
      ],
      "metadata": {
        "colab": {
          "base_uri": "https://localhost:8080/"
        },
        "id": "fyRY94i2tBCi",
        "outputId": "5ac53250-1a0e-4e05-e8af-2057bfd40c14"
      },
      "execution_count": null,
      "outputs": [
        {
          "output_type": "stream",
          "name": "stdout",
          "text": [
            "{1, 2, 3, 4, 5, 6}\n"
          ]
        }
      ]
    },
    {
      "cell_type": "code",
      "source": [
        "#sorted()\n",
        "ab=[9,1,2,4,5,6,6,9]\n",
        "b=sorted(ab)\n",
        "print(b)\n"
      ],
      "metadata": {
        "colab": {
          "base_uri": "https://localhost:8080/"
        },
        "id": "AFVJvWyut1Ao",
        "outputId": "6f7ed32d-d64f-487b-fc28-b34df9da1883"
      },
      "execution_count": null,
      "outputs": [
        {
          "output_type": "stream",
          "name": "stdout",
          "text": [
            "[1, 2, 4, 5, 6, 6, 9, 9]\n"
          ]
        }
      ]
    },
    {
      "cell_type": "code",
      "source": [
        "#int()\n",
        "val1=int(20)\n",
        "val2=int(11.56)\n",
        "val3=int(75)\n",
        "print(val1,val2,val3)"
      ],
      "metadata": {
        "colab": {
          "base_uri": "https://localhost:8080/"
        },
        "id": "RtDUSZ1LvLcs",
        "outputId": "1bfc279b-8e59-4a7c-fb19-57c3250f23e1"
      },
      "execution_count": null,
      "outputs": [
        {
          "output_type": "stream",
          "name": "stdout",
          "text": [
            "20 11 75\n"
          ]
        }
      ]
    },
    {
      "cell_type": "code",
      "source": [
        "#pow() To the power\n",
        "print(pow(2,3))"
      ],
      "metadata": {
        "colab": {
          "base_uri": "https://localhost:8080/"
        },
        "id": "uJ_s_MGBwHg9",
        "outputId": "05bd18de-82b8-4639-bcdc-fc5a59f370a6"
      },
      "execution_count": null,
      "outputs": [
        {
          "output_type": "stream",
          "name": "stdout",
          "text": [
            "8\n"
          ]
        }
      ]
    },
    {
      "cell_type": "code",
      "source": [
        "#round()\n",
        "print(round(20.5))"
      ],
      "metadata": {
        "colab": {
          "base_uri": "https://localhost:8080/"
        },
        "id": "GtTPSvYzx76Y",
        "outputId": "ada398e5-94e7-441e-c904-e4f5c31a9341"
      },
      "execution_count": null,
      "outputs": [
        {
          "output_type": "stream",
          "name": "stdout",
          "text": [
            "20\n"
          ]
        }
      ]
    },
    {
      "cell_type": "code",
      "source": [
        "# key argument\n",
        "def new_function(name3,name2,name1,name4):\n",
        "  print(name2)\n",
        "  new_function(name1=\"V\",name2=\"S\",name3=\"P\",name=\"A\")\n",
        "  print(name3)"
      ],
      "metadata": {
        "id": "u2KExaQezrQQ"
      },
      "execution_count": null,
      "outputs": []
    },
    {
      "cell_type": "code",
      "source": [
        "# default parameter value\n",
        "def my_country(country=\"India\"):\n",
        "    print(\"My country name\"+country)\n",
        "my_country(\"America\")\n",
        "my_country(\"Japan\")\n",
        "my_country(\"England\")\n",
        "my_country()\n",
        "my_country(\"Russia\")"
      ],
      "metadata": {
        "colab": {
          "base_uri": "https://localhost:8080/"
        },
        "id": "7W-O5Pn51AGt",
        "outputId": "73419b29-ae1e-423f-9b53-ae6e8be1c7e5"
      },
      "execution_count": null,
      "outputs": [
        {
          "output_type": "stream",
          "name": "stdout",
          "text": [
            "My country nameAmerica\n",
            "My country nameJapan\n",
            "My country nameEngland\n",
            "My country nameIndia\n",
            "My country nameRussia\n"
          ]
        }
      ]
    },
    {
      "cell_type": "code",
      "source": [
        "#passing a list to the function as an argument\n",
        "def my_fruitlist(fruits):\n",
        "  print(fruits)\n",
        "  fruits=[\"apple\",\"banana\",\"cherry\"]\n",
        "  my_fruitlist(fruits)\n",
        "  type(fruits)"
      ],
      "metadata": {
        "id": "z2_75qbD0A_W"
      },
      "execution_count": null,
      "outputs": []
    },
    {
      "cell_type": "code",
      "source": [
        "def func1(*args):\n",
        "    print(type(args)) \n",
        "    print(args) \n",
        "    print(*args) \n",
        "\n",
        "func1(1,2,3,4,5,6,7,\"goodbye\")"
      ],
      "metadata": {
        "colab": {
          "base_uri": "https://localhost:8080/"
        },
        "id": "1A0LZriA4RVc",
        "outputId": "9c5fac3f-68db-4ece-b870-4660886c4a27"
      },
      "execution_count": null,
      "outputs": [
        {
          "output_type": "stream",
          "name": "stdout",
          "text": [
            "<class 'tuple'>\n",
            "(1, 2, 3, 4, 5, 6, 7, 'goodbye')\n",
            "1 2 3 4 5 6 7 goodbye\n"
          ]
        }
      ]
    },
    {
      "cell_type": "code",
      "source": [
        ""
      ],
      "metadata": {
        "id": "JabQ8Rh16KwM"
      },
      "execution_count": null,
      "outputs": []
    },
    {
      "cell_type": "code",
      "source": [
        "a=10\n",
        "def sum():\n",
        "  W=10\n",
        "  return print(a+W)\n",
        "  sum()\n",
        "  print(a)"
      ],
      "metadata": {
        "id": "YrNxWbKb6NJQ"
      },
      "execution_count": null,
      "outputs": []
    },
    {
      "cell_type": "code",
      "source": [
        "#multiple argument\n",
        "x=lambda x,y: x+y\n",
        "print(x(50,6))\n"
      ],
      "metadata": {
        "colab": {
          "base_uri": "https://localhost:8080/"
        },
        "id": "XhcioUW-657j",
        "outputId": "8517f078-fbb2-4b55-bad0-b2a885756da1"
      },
      "execution_count": null,
      "outputs": [
        {
          "output_type": "stream",
          "name": "stdout",
          "text": [
            "56\n"
          ]
        }
      ]
    },
    {
      "cell_type": "code",
      "source": [
        "#single dimensional array\n",
        "single_array=np.array([2,3,4,5,6,7])\n",
        "print(\"single dimensional array using numpy\",single_array)"
      ],
      "metadata": {
        "colab": {
          "base_uri": "https://localhost:8080/"
        },
        "id": "8L5WGXlV7_tt",
        "outputId": "34495f4e-c331-4e2f-93b5-93a9f6c2cde8"
      },
      "execution_count": null,
      "outputs": [
        {
          "output_type": "stream",
          "name": "stdout",
          "text": [
            "single dimensional array using numpy [2 3 4 5 6 7]\n"
          ]
        }
      ]
    },
    {
      "cell_type": "code",
      "source": [
        "#create multidimensional array\n",
        "multi_dimensional=np.array([(3,4,5,6),(8,6,5,4),(5,6,7,8)])\n",
        "print(multi_dimensional)\n",
        "type(multi_dimensional)\n"
      ],
      "metadata": {
        "colab": {
          "base_uri": "https://localhost:8080/"
        },
        "id": "yAgRv0em8jta",
        "outputId": "08642ae4-2a49-4480-92d3-730dad27c91b"
      },
      "execution_count": null,
      "outputs": [
        {
          "output_type": "stream",
          "name": "stdout",
          "text": [
            "[[3 4 5 6]\n",
            " [8 6 5 4]\n",
            " [5 6 7 8]]\n"
          ]
        },
        {
          "output_type": "execute_result",
          "data": {
            "text/plain": [
              "numpy.ndarray"
            ]
          },
          "metadata": {},
          "execution_count": 85
        }
      ]
    },
    {
      "cell_type": "code",
      "source": [
        "multi_dimensional.ndim"
      ],
      "metadata": {
        "colab": {
          "base_uri": "https://localhost:8080/"
        },
        "id": "Qeq28v1j9yHA",
        "outputId": "57636e67-0803-4f72-e4e2-6f69f8556a05"
      },
      "execution_count": null,
      "outputs": [
        {
          "output_type": "execute_result",
          "data": {
            "text/plain": [
              "2"
            ]
          },
          "metadata": {},
          "execution_count": 86
        }
      ]
    },
    {
      "cell_type": "code",
      "source": [
        "#check memory size of the array with numpy\n",
        "print(single_array)\n",
        "print(\"memory size of the array:\",single_array.itemsize)"
      ],
      "metadata": {
        "colab": {
          "base_uri": "https://localhost:8080/"
        },
        "id": "hBuWyo3Z91c7",
        "outputId": "670107c8-aeb1-45bb-b172-1313fa7ae524"
      },
      "execution_count": null,
      "outputs": [
        {
          "output_type": "stream",
          "name": "stdout",
          "text": [
            "[2 3 4 5 6 7]\n",
            "memory size of the array: 8\n"
          ]
        }
      ]
    },
    {
      "cell_type": "code",
      "source": [
        "print(multi_dimensional)\n",
        "print(\"memory size of the array:\",multi_dimensional.itemsize)"
      ],
      "metadata": {
        "colab": {
          "base_uri": "https://localhost:8080/"
        },
        "id": "tw_agXya-vn-",
        "outputId": "3a311634-5380-48eb-9a73-ba0ea2568e6b"
      },
      "execution_count": null,
      "outputs": [
        {
          "output_type": "stream",
          "name": "stdout",
          "text": [
            "[[3 4 5 6]\n",
            " [8 6 5 4]\n",
            " [5 6 7 8]]\n",
            "memory size of the array: 8\n"
          ]
        }
      ]
    },
    {
      "cell_type": "code",
      "source": [
        "#check the type of the array with numpy\n",
        "print(\"type of the array:\",single_array.dtype)\n",
        "print(\"type of the array:\",multi_dimensional.dtype)"
      ],
      "metadata": {
        "colab": {
          "base_uri": "https://localhost:8080/"
        },
        "id": "10A5XRff_Jik",
        "outputId": "1b8c3240-89b2-4d9b-d3a6-cd6bb795a430"
      },
      "execution_count": null,
      "outputs": [
        {
          "output_type": "stream",
          "name": "stdout",
          "text": [
            "type of the array: int64\n",
            "type of the array: int64\n"
          ]
        }
      ]
    },
    {
      "cell_type": "code",
      "source": [
        "#check the size of the array with numpy\n",
        "print(\"total elements present in the array:\",single_array.size)\n",
        "print(\"total elements present in the array:\",multi_dimensional.size)"
      ],
      "metadata": {
        "colab": {
          "base_uri": "https://localhost:8080/"
        },
        "id": "nVeEQnQIAVOE",
        "outputId": "2ce29b9f-28f1-4c73-ec3b-d15422ecb6b7"
      },
      "execution_count": null,
      "outputs": [
        {
          "output_type": "stream",
          "name": "stdout",
          "text": [
            "total elements present in the array: 6\n",
            "total elements present in the array: 12\n"
          ]
        }
      ]
    },
    {
      "cell_type": "code",
      "source": [
        "#check the shape of the array with numpy\n",
        "print(\"shape of the array:\",single_array.shape)\n",
        "print(\"shape of the array:\",multi_dimensional.shape)"
      ],
      "metadata": {
        "colab": {
          "base_uri": "https://localhost:8080/"
        },
        "id": "BhfDS2iTBT1B",
        "outputId": "282cd26e-3be1-4a6d-cb2c-e02590065ed3"
      },
      "execution_count": null,
      "outputs": [
        {
          "output_type": "stream",
          "name": "stdout",
          "text": [
            "shape of the array: (6,)\n",
            "shape of the array: (3, 4)\n"
          ]
        }
      ]
    },
    {
      "cell_type": "code",
      "source": [
        "#Reshape the array with numpy\n",
        "multi_dimensional=np.array([(6,7,8),(10,11,12)])\n",
        "print(multi_dimensional)\n",
        "print(multi_dimensional.ndim)\n",
        "print(multi_dimensional.shape)"
      ],
      "metadata": {
        "colab": {
          "base_uri": "https://localhost:8080/"
        },
        "id": "d-33h5OhB4SJ",
        "outputId": "192f9975-4733-40dc-ee38-2d1e757dd01b"
      },
      "execution_count": null,
      "outputs": [
        {
          "output_type": "stream",
          "name": "stdout",
          "text": [
            "[[ 6  7  8]\n",
            " [10 11 12]]\n",
            "2\n",
            "(2, 3)\n"
          ]
        }
      ]
    },
    {
      "cell_type": "code",
      "source": [
        "#concat two array\n",
        "first_array=np.array([12,16,14])\n",
        "second_array=np.array([45,67,87])\n",
        "new_array=np.concatenate((first_array,second_array))\n",
        "print(new_array)"
      ],
      "metadata": {
        "colab": {
          "base_uri": "https://localhost:8080/"
        },
        "id": "jtrkbyKtDQag",
        "outputId": "23ff7f6d-901f-4048-c7f9-775739e107d4"
      },
      "execution_count": null,
      "outputs": [
        {
          "output_type": "stream",
          "name": "stdout",
          "text": [
            "[12 16 14 45 67 87]\n"
          ]
        }
      ]
    },
    {
      "cell_type": "code",
      "source": [
        "#sort array with numpy\n",
        "print('sorted order:',np.sort(new_array))\n"
      ],
      "metadata": {
        "colab": {
          "base_uri": "https://localhost:8080/"
        },
        "id": "Nz6FvQI-FQl0",
        "outputId": "87138c14-f4c1-4948-ccd2-dd726c940a45"
      },
      "execution_count": null,
      "outputs": [
        {
          "output_type": "stream",
          "name": "stdout",
          "text": [
            "sorted order: [12 14 16 45 67 87]\n"
          ]
        }
      ]
    },
    {
      "cell_type": "code",
      "source": [
        "arr1=np.array([100,67,89,54,32,23,2,1,8,10])\n",
        "np.sort(arr1)"
      ],
      "metadata": {
        "colab": {
          "base_uri": "https://localhost:8080/"
        },
        "id": "OGuGYx0FGN0W",
        "outputId": "9c3de641-6bb3-44eb-f36a-0da138c4f02a"
      },
      "execution_count": null,
      "outputs": [
        {
          "output_type": "execute_result",
          "data": {
            "text/plain": [
              "array([  1,   2,   8,  10,  23,  32,  54,  67,  89, 100])"
            ]
          },
          "metadata": {},
          "execution_count": 105
        }
      ]
    },
    {
      "cell_type": "code",
      "source": [
        "# Array indexing with Numpy\n",
        "X=([90,12,34,14,15,16])\n",
        "print(new_array)\n",
        "print('first element start with 0 in array:',X[4])"
      ],
      "metadata": {
        "colab": {
          "base_uri": "https://localhost:8080/"
        },
        "id": "xHhRF3W8G2VD",
        "outputId": "b0ae4e1d-cbee-42a9-e725-8bba85ee9bca"
      },
      "execution_count": null,
      "outputs": [
        {
          "output_type": "stream",
          "name": "stdout",
          "text": [
            "[12 16 14 45 67 87]\n",
            "first element start with 0 in array: 15\n"
          ]
        }
      ]
    },
    {
      "cell_type": "code",
      "source": [
        "#array slicing with numpy\n",
        "print(X)\n",
        "print('starts from 1 index to go till 4',new_array[0:5])"
      ],
      "metadata": {
        "colab": {
          "base_uri": "https://localhost:8080/"
        },
        "id": "4SXWDK4jJimP",
        "outputId": "2a23e9c7-f49a-48b2-8a7a-f3e49f01f680"
      },
      "execution_count": null,
      "outputs": [
        {
          "output_type": "stream",
          "name": "stdout",
          "text": [
            "[90, 12, 34, 14, 15, 16]\n",
            "starts from 1 index to go till 4 [12 16 14 45 67]\n"
          ]
        }
      ]
    },
    {
      "cell_type": "code",
      "source": [
        "#2d numpy arrays matrix\n",
        "my_tuple=((1,2),(3,4),(5,6))\n",
        "my_tup_arr=(np.array(my_tuple))\n",
        "print(my_tup_arr)\n",
        "print(type(my_tup_arr))"
      ],
      "metadata": {
        "colab": {
          "base_uri": "https://localhost:8080/"
        },
        "id": "qH2SB2xdLkxS",
        "outputId": "92587a04-2a90-4c76-cc51-805b9b47a9e2"
      },
      "execution_count": null,
      "outputs": [
        {
          "output_type": "stream",
          "name": "stdout",
          "text": [
            "[[1 2]\n",
            " [3 4]\n",
            " [5 6]]\n",
            "<class 'numpy.ndarray'>\n"
          ]
        }
      ]
    },
    {
      "cell_type": "code",
      "source": [
        "x is: [[0 2 4 6 7] \n",
        "      [3 4 6 7 8]]\n",
        "y=x.copy()\n",
        "print(\"y is :\\n\",y)\n",
        "print(\"\\nx is copied to y\")"
      ],
      "metadata": {
        "colab": {
          "base_uri": "https://localhost:8080/",
          "height": 130
        },
        "id": "4DvhjHOtMXJs",
        "outputId": "fbdaf112-3dc4-42aa-e298-13f80b3e7806"
      },
      "execution_count": null,
      "outputs": [
        {
          "output_type": "error",
          "ename": "SyntaxError",
          "evalue": "ignored",
          "traceback": [
            "\u001b[0;36m  File \u001b[0;32m\"<ipython-input-120-cc8e788c10e7>\"\u001b[0;36m, line \u001b[0;32m1\u001b[0m\n\u001b[0;31m    x is: [[0 2 4 6 7]\u001b[0m\n\u001b[0m        ^\u001b[0m\n\u001b[0;31mSyntaxError\u001b[0m\u001b[0;31m:\u001b[0m invalid syntax\n"
          ]
        }
      ]
    }
  ]
}